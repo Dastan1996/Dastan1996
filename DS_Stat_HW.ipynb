{
  "nbformat": 4,
  "nbformat_minor": 0,
  "metadata": {
    "kernelspec": {
      "display_name": "Python 3",
      "language": "python",
      "name": "python3"
    },
    "language_info": {
      "codemirror_mode": {
        "name": "ipython",
        "version": 3
      },
      "file_extension": ".py",
      "mimetype": "text/x-python",
      "name": "python",
      "nbconvert_exporter": "python",
      "pygments_lexer": "ipython3",
      "version": "3.6.3"
    },
    "colab": {
      "name": "DS_Stat_HW.ipynb",
      "provenance": [],
      "collapsed_sections": [],
      "include_colab_link": true
    }
  },
  "cells": [
    {
      "cell_type": "markdown",
      "metadata": {
        "id": "view-in-github",
        "colab_type": "text"
      },
      "source": [
        "<a href=\"https://colab.research.google.com/github/Dastan1996/Dastan1996/blob/main/DS_Stat_HW.ipynb\" target=\"_parent\"><img src=\"https://colab.research.google.com/assets/colab-badge.svg\" alt=\"Open In Colab\"/></a>"
      ]
    },
    {
      "cell_type": "markdown",
      "metadata": {
        "id": "STJJmfyDeLHW"
      },
      "source": [
        "## Домашняя работа по базовой математической статистике для Data scientist\n",
        "\n",
        "Задания со зведочкой не обязательны для зачета."
      ]
    },
    {
      "cell_type": "code",
      "metadata": {
        "id": "Z6wDw2SReLHX",
        "colab": {
          "base_uri": "https://localhost:8080/"
        },
        "outputId": "ec982c68-1d02-4111-f64e-dddf93132852"
      },
      "source": [
        "import pandas as pd\n",
        "import numpy as np\n",
        "import matplotlib.pyplot as plt\n",
        "import seaborn as sns\n",
        "from scipy.stats import kurtosis\n",
        "from scipy.stats import skew\n",
        "from scipy import stats\n",
        "import statsmodels.api as sm\n",
        "\n",
        "df = pd.read_csv(\"bikeshare.csv\")\n",
        "del df['datetime']"
      ],
      "execution_count": 79,
      "outputs": [
        {
          "output_type": "stream",
          "name": "stderr",
          "text": [
            "/usr/local/lib/python3.7/dist-packages/statsmodels/tools/_testing.py:19: FutureWarning: pandas.util.testing is deprecated. Use the functions in the public API at pandas.testing instead.\n",
            "  import pandas.util.testing as tm\n"
          ]
        }
      ]
    },
    {
      "cell_type": "markdown",
      "metadata": {
        "id": "y_ceSNNweLHb"
      },
      "source": [
        "### 1.\n",
        "Постройте гистограмму распределения каждой из метрик в датасете при помощи метода датафрейма `hist()`. При необходимости добавьте логарифмированную ось (параметр log)."
      ]
    },
    {
      "cell_type": "code",
      "metadata": {
        "id": "BAkS08HCeLHd"
      },
      "source": [
        "### YOUR CODE HERE ###\n",
        "import pandas_datareader as pdr\n",
        "from datetime import datetime"
      ],
      "execution_count": 9,
      "outputs": []
    },
    {
      "cell_type": "code",
      "source": [
        "df.info()"
      ],
      "metadata": {
        "colab": {
          "base_uri": "https://localhost:8080/"
        },
        "id": "28t8spK3KyNX",
        "outputId": "d91f567c-9a27-41cf-9a57-2cc99fec5576"
      },
      "execution_count": 15,
      "outputs": [
        {
          "output_type": "stream",
          "name": "stdout",
          "text": [
            "<class 'pandas.core.frame.DataFrame'>\n",
            "RangeIndex: 10886 entries, 0 to 10885\n",
            "Data columns (total 11 columns):\n",
            " #   Column      Non-Null Count  Dtype  \n",
            "---  ------      --------------  -----  \n",
            " 0   season      10886 non-null  int64  \n",
            " 1   holiday     10886 non-null  int64  \n",
            " 2   workingday  10886 non-null  int64  \n",
            " 3   weather     10886 non-null  int64  \n",
            " 4   temp        10886 non-null  float64\n",
            " 5   atemp       10886 non-null  float64\n",
            " 6   humidity    10886 non-null  int64  \n",
            " 7   windspeed   10886 non-null  float64\n",
            " 8   casual      10886 non-null  int64  \n",
            " 9   registered  10886 non-null  int64  \n",
            " 10  count       10886 non-null  int64  \n",
            "dtypes: float64(3), int64(8)\n",
            "memory usage: 935.6 KB\n"
          ]
        }
      ]
    },
    {
      "cell_type": "code",
      "source": [
        "df.hist(bins = 100)\n",
        "plt.title(\"Распределение аренды велосипедов по метрикам\")"
      ],
      "metadata": {
        "colab": {
          "base_uri": "https://localhost:8080/",
          "height": 298
        },
        "id": "WRhBkrn1agdl",
        "outputId": "de028a22-2f26-4e0f-98e0-cc03d5e93fe0"
      },
      "execution_count": 52,
      "outputs": [
        {
          "output_type": "execute_result",
          "data": {
            "text/plain": [
              "Text(0.5, 1.0, 'Распределение аренды велосипедов по метрикам')"
            ]
          },
          "metadata": {},
          "execution_count": 52
        },
        {
          "output_type": "display_data",
          "data": {
            "text/plain": [
              "<Figure size 432x288 with 12 Axes>"
            ],
            "image/png": "[encoded data removed]"
          },
          "metadata": {
            "needs_background": "light"
          }
        }
      ]
    },
    {
      "cell_type": "markdown",
      "metadata": {
        "id": "N5ZsCWTheLHi"
      },
      "source": [
        "### 2.\n",
        "Для каждой метрики найдите среднее, дисперсию, 50, 75 и 99 перцентили, моду. Какие выводы о наличии аномалий мы можем сделать?"
      ]
    },
    {
      "cell_type": "code",
      "metadata": {
        "id": "_hlcypoqeLHj",
        "colab": {
          "base_uri": "https://localhost:8080/",
          "height": 364
        },
        "outputId": "271d846d-9f13-4ce0-e212-e9c80c158c48"
      },
      "source": [
        "### YOUR CODE HERE ###\n",
        "df.describe()"
      ],
      "execution_count": 124,
      "outputs": [
        {
          "output_type": "execute_result",
          "data": {
            "text/plain": [
              "             season       holiday    workingday       weather         temp  \\\n",
              "count  10886.000000  10886.000000  10886.000000  10886.000000  10886.00000   \n",
              "mean       2.506614      0.028569      0.680875      1.418427     20.23086   \n",
              "std        1.116174      0.166599      0.466159      0.633839      7.79159   \n",
              "min        1.000000      0.000000      0.000000      1.000000      0.82000   \n",
              "25%        2.000000      0.000000      0.000000      1.000000     13.94000   \n",
              "50%        3.000000      0.000000      1.000000      1.000000     20.50000   \n",
              "75%        4.000000      0.000000      1.000000      2.000000     26.24000   \n",
              "max        4.000000      1.000000      1.000000      4.000000     41.00000   \n",
              "\n",
              "              atemp      humidity     windspeed        casual    registered  \\\n",
              "count  10886.000000  10886.000000  10886.000000  10886.000000  10886.000000   \n",
              "mean      23.655084     61.886460     12.799395     36.021955    155.552177   \n",
              "std        8.474601     19.245033      8.164537     49.960477    151.039033   \n",
              "min        0.760000      0.000000      0.000000      0.000000      0.000000   \n",
              "25%       16.665000     47.000000      7.001500      4.000000     36.000000   \n",
              "50%       24.240000     62.000000     12.998000     17.000000    118.000000   \n",
              "75%       31.060000     77.000000     16.997900     49.000000    222.000000   \n",
              "max       45.455000    100.000000     56.996900    367.000000    886.000000   \n",
              "\n",
              "              count  \n",
              "count  10886.000000  \n",
              "mean     191.574132  \n",
              "std      181.144454  \n",
              "min        1.000000  \n",
              "25%       42.000000  \n",
              "50%      145.000000  \n",
              "75%      284.000000  \n",
              "max      977.000000  "
            ],
            "text/html": [
              "\n",
              "  <div id=\"df-fd927b9d-0eb8-4157-a86e-1ead7ae49dda\">\n",
              "    <div class=\"colab-df-container\">\n",
              "      <div>\n",
              "<style scoped>\n",
              "    .dataframe tbody tr th:only-of-type {\n",
              "        vertical-align: middle;\n",
              "    }\n",
              "\n",
              "    .dataframe tbody tr th {\n",
              "        vertical-align: top;\n",
              "    }\n",
              "\n",
              "    .dataframe thead th {\n",
              "        text-align: right;\n",
              "    }\n",
              "</style>\n",
              "<table border=\"1\" class=\"dataframe\">\n",
              "  <thead>\n",
              "    <tr style=\"text-align: right;\">\n",
              "      <th></th>\n",
              "      <th>season</th>\n",
              "      <th>holiday</th>\n",
              "      <th>workingday</th>\n",
              "      <th>weather</th>\n",
              "      <th>temp</th>\n",
              "      <th>atemp</th>\n",
              "      <th>humidity</th>\n",
              "      <th>windspeed</th>\n",
              "      <th>casual</th>\n",
              "      <th>registered</th>\n",
              "      <th>count</th>\n",
              "    </tr>\n",
              "  </thead>\n",
              "  <tbody>\n",
              "    <tr>\n",
              "      <th>count</th>\n",
              "      <td>10886.000000</td>\n",
              "      <td>10886.000000</td>\n",
              "      <td>10886.000000</td>\n",
              "      <td>10886.000000</td>\n",
              "      <td>10886.00000</td>\n",
              "      <td>10886.000000</td>\n",
              "      <td>10886.000000</td>\n",
              "      <td>10886.000000</td>\n",
              "      <td>10886.000000</td>\n",
              "      <td>10886.000000</td>\n",
              "      <td>10886.000000</td>\n",
              "    </tr>\n",
              "    <tr>\n",
              "      <th>mean</th>\n",
              "      <td>2.506614</td>\n",
              "      <td>0.028569</td>\n",
              "      <td>0.680875</td>\n",
              "      <td>1.418427</td>\n",
              "      <td>20.23086</td>\n",
              "      <td>23.655084</td>\n",
              "      <td>61.886460</td>\n",
              "      <td>12.799395</td>\n",
              "      <td>36.021955</td>\n",
              "      <td>155.552177</td>\n",
              "      <td>191.574132</td>\n",
              "    </tr>\n",
              "    <tr>\n",
              "      <th>std</th>\n",
              "      <td>1.116174</td>\n",
              "      <td>0.166599</td>\n",
              "      <td>0.466159</td>\n",
              "      <td>0.633839</td>\n",
              "      <td>7.79159</td>\n",
              "      <td>8.474601</td>\n",
              "      <td>19.245033</td>\n",
              "      <td>8.164537</td>\n",
              "      <td>49.960477</td>\n",
              "      <td>151.039033</td>\n",
              "      <td>181.144454</td>\n",
              "    </tr>\n",
              "    <tr>\n",
              "      <th>min</th>\n",
              "      <td>1.000000</td>\n",
              "      <td>0.000000</td>\n",
              "      <td>0.000000</td>\n",
              "      <td>1.000000</td>\n",
              "      <td>0.82000</td>\n",
              "      <td>0.760000</td>\n",
              "      <td>0.000000</td>\n",
              "      <td>0.000000</td>\n",
              "      <td>0.000000</td>\n",
              "      <td>0.000000</td>\n",
              "      <td>1.000000</td>\n",
              "    </tr>\n",
              "    <tr>\n",
              "      <th>25%</th>\n",
              "      <td>2.000000</td>\n",
              "      <td>0.000000</td>\n",
              "      <td>0.000000</td>\n",
              "      <td>1.000000</td>\n",
              "      <td>13.94000</td>\n",
              "      <td>16.665000</td>\n",
              "      <td>47.000000</td>\n",
              "      <td>7.001500</td>\n",
              "      <td>4.000000</td>\n",
              "      <td>36.000000</td>\n",
              "      <td>42.000000</td>\n",
              "    </tr>\n",
              "    <tr>\n",
              "      <th>50%</th>\n",
              "      <td>3.000000</td>\n",
              "      <td>0.000000</td>\n",
              "      <td>1.000000</td>\n",
              "      <td>1.000000</td>\n",
              "      <td>20.50000</td>\n",
              "      <td>24.240000</td>\n",
              "      <td>62.000000</td>\n",
              "      <td>12.998000</td>\n",
              "      <td>17.000000</td>\n",
              "      <td>118.000000</td>\n",
              "      <td>145.000000</td>\n",
              "    </tr>\n",
              "    <tr>\n",
              "      <th>75%</th>\n",
              "      <td>4.000000</td>\n",
              "      <td>0.000000</td>\n",
              "      <td>1.000000</td>\n",
              "      <td>2.000000</td>\n",
              "      <td>26.24000</td>\n",
              "      <td>31.060000</td>\n",
              "      <td>77.000000</td>\n",
              "      <td>16.997900</td>\n",
              "      <td>49.000000</td>\n",
              "      <td>222.000000</td>\n",
              "      <td>284.000000</td>\n",
              "    </tr>\n",
              "    <tr>\n",
              "      <th>max</th>\n",
              "      <td>4.000000</td>\n",
              "      <td>1.000000</td>\n",
              "      <td>1.000000</td>\n",
              "      <td>4.000000</td>\n",
              "      <td>41.00000</td>\n",
              "      <td>45.455000</td>\n",
              "      <td>100.000000</td>\n",
              "      <td>56.996900</td>\n",
              "      <td>367.000000</td>\n",
              "      <td>886.000000</td>\n",
              "      <td>977.000000</td>\n",
              "    </tr>\n",
              "  </tbody>\n",
              "</table>\n",
              "</div>\n",
              "      <button class=\"colab-df-convert\" onclick=\"convertToInteractive('df-fd927b9d-0eb8-4157-a86e-1ead7ae49dda')\"\n",
              "              title=\"Convert this dataframe to an interactive table.\"\n",
              "              style=\"display:none;\">\n",
              "        \n",
              "  <svg xmlns=\"http://www.w3.org/2000/svg\" height=\"24px\"viewBox=\"0 0 24 24\"\n",
              "       width=\"24px\">\n",
              "    <path d=\"M0 0h24v24H0V0z\" fill=\"none\"/>\n",
              "    <path d=\"M18.56 5.44l.94 2.06.94-2.06 2.06-.94-2.06-.94-.94-2.06-.94 2.06-2.06.94zm-11 1L8.5 8.5l.94-2.06 2.06-.94-2.06-.94L8.5 2.5l-.94 2.06-2.06.94zm10 10l.94 2.06.94-2.06 2.06-.94-2.06-.94-.94-2.06-.94 2.06-2.06.94z\"/><path d=\"M17.41 7.96l-1.37-1.37c-.4-.4-.92-.59-1.43-.59-.52 0-1.04.2-1.43.59L10.3 9.45l-7.72 7.72c-.78.78-.78 2.05 0 2.83L4 21.41c.39.39.9.59 1.41.59.51 0 1.02-.2 1.41-.59l7.78-7.78 2.81-2.81c.8-.78.8-2.07 0-2.86zM5.41 20L4 18.59l7.72-7.72 1.47 1.35L5.41 20z\"/>\n",
              "  </svg>\n",
              "      </button>\n",
              "      \n",
              "  <style>\n",
              "    .colab-df-container {\n",
              "      display:flex;\n",
              "      flex-wrap:wrap;\n",
              "      gap: 12px;\n",
              "    }\n",
              "\n",
              "    .colab-df-convert {\n",
              "      background-color: #E8F0FE;\n",
              "      border: none;\n",
              "      border-radius: 50%;\n",
              "      cursor: pointer;\n",
              "      display: none;\n",
              "      fill: #1967D2;\n",
              "      height: 32px;\n",
              "      padding: 0 0 0 0;\n",
              "      width: 32px;\n",
              "    }\n",
              "\n",
              "    .colab-df-convert:hover {\n",
              "      background-color: #E2EBFA;\n",
              "      box-shadow: 0px 1px 2px rgba(60, 64, 67, 0.3), 0px 1px 3px 1px rgba(60, 64, 67, 0.15);\n",
              "      fill: #174EA6;\n",
              "    }\n",
              "\n",
              "    [theme=dark] .colab-df-convert {\n",
              "      background-color: #3B4455;\n",
              "      fill: #D2E3FC;\n",
              "    }\n",
              "\n",
              "    [theme=dark] .colab-df-convert:hover {\n",
              "      background-color: #434B5C;\n",
              "      box-shadow: 0px 1px 3px 1px rgba(0, 0, 0, 0.15);\n",
              "      filter: drop-shadow(0px 1px 2px rgba(0, 0, 0, 0.3));\n",
              "      fill: #FFFFFF;\n",
              "    }\n",
              "  </style>\n",
              "\n",
              "      <script>\n",
              "        const buttonEl =\n",
              "          document.querySelector('#df-fd927b9d-0eb8-4157-a86e-1ead7ae49dda button.colab-df-convert');\n",
              "        buttonEl.style.display =\n",
              "          google.colab.kernel.accessAllowed ? 'block' : 'none';\n",
              "\n",
              "        async function convertToInteractive(key) {\n",
              "          const element = document.querySelector('#df-fd927b9d-0eb8-4157-a86e-1ead7ae49dda');\n",
              "          const dataTable =\n",
              "            await google.colab.kernel.invokeFunction('convertToInteractive',\n",
              "                                                     [key], {});\n",
              "          if (!dataTable) return;\n",
              "\n",
              "          const docLinkHtml = 'Like what you see? Visit the ' +\n",
              "            '<a target=\"_blank\" href=https://colab.research.google.com/notebooks/data_table.ipynb>data table notebook</a>'\n",
              "            + ' to learn more about interactive tables.';\n",
              "          element.innerHTML = '';\n",
              "          dataTable['output_type'] = 'display_data';\n",
              "          await google.colab.output.renderOutput(dataTable, element);\n",
              "          const docLink = document.createElement('div');\n",
              "          docLink.innerHTML = docLinkHtml;\n",
              "          element.appendChild(docLink);\n",
              "        }\n",
              "      </script>\n",
              "    </div>\n",
              "  </div>\n",
              "  "
            ]
          },
          "metadata": {},
          "execution_count": 124
        }
      ]
    },
    {
      "cell_type": "code",
      "source": [
        "# В выборке humidity мы выдим большие выбросы справа, это аномальное распределение \n",
        "# в выборке temp бимодальное распределение \n",
        "# выборка atemp тоже близка к нормальному распределению"
      ],
      "metadata": {
        "id": "_kZYR7xruXGG"
      },
      "execution_count": 112,
      "outputs": []
    },
    {
      "cell_type": "markdown",
      "metadata": {
        "id": "vYsgacSUeLHm"
      },
      "source": [
        "### 3. (*) \n",
        " Для каждой метрики проанализируйте ассиметрию и смещенность распределения – для этого посчитайте для каждой метрики коэффициент ассиметрии и эксцесса."
      ]
    },
    {
      "cell_type": "code",
      "source": [
        "def gamma_params(mean, std):\n",
        "    shape = round((mean/std)**2, 4)\n",
        "    scale = round((std**2)/mean, 4)\n",
        "    return (shape, scale)"
      ],
      "metadata": {
        "id": "L6aGfwJs0g6h"
      },
      "execution_count": 125,
      "outputs": []
    },
    {
      "cell_type": "markdown",
      "metadata": {
        "id": "zssITxDceLHp"
      },
      "source": [
        "### 4.\n",
        "\n",
        "Постройте симметричный доверительный интервал для метрики с самой большой дисперсией при доверительной вероятности 0.95. "
      ]
    },
    {
      "cell_type": "code",
      "metadata": {
        "id": "N2ANdDIXeLHp"
      },
      "source": [
        "### YOUR CODE HERE ###\n",
        "def my_basic_research(df=df, column = \"atemp\"):\n",
        "    print(\"Базовые метрики\")\n",
        "    print(df[column].describe())\n",
        "    print(\"------------------------------------\")\n",
        "    \n",
        "    print(\"Самые популярные значения метрики, топ 5\")\n",
        "    print(df[column].value_counts().nlargest(5))\n",
        "    print(\"------------------------------------\")\n",
        "    \n",
        "    print(\"Эксцесс \", kurtosis(df[column]))\n",
        "    print(\"Ассиметрия \", skew(df[column]))\n",
        "    \n",
        "    sns.distplot(df[column])\n",
        "    plt.title(\"Распределение метрики\")"
      ],
      "execution_count": 85,
      "outputs": []
    },
    {
      "cell_type": "code",
      "source": [
        "my_basic_research(column = \"atemp\")"
      ],
      "metadata": {
        "colab": {
          "base_uri": "https://localhost:8080/",
          "height": 714
        },
        "id": "TvmybFabiIVe",
        "outputId": "31b79a07-a07a-465a-f939-8cd24c719a4b"
      },
      "execution_count": 86,
      "outputs": [
        {
          "output_type": "stream",
          "name": "stdout",
          "text": [
            "Базовые метрики\n",
            "count    10886.000000\n",
            "mean        23.655084\n",
            "std          8.474601\n",
            "min          0.760000\n",
            "25%         16.665000\n",
            "50%         24.240000\n",
            "75%         31.060000\n",
            "max         45.455000\n",
            "Name: atemp, dtype: float64\n",
            "------------------------------------\n",
            "Самые популярные значения метрики, топ 5\n",
            "31.060    671\n",
            "25.760    423\n",
            "22.725    406\n",
            "20.455    400\n",
            "26.515    395\n",
            "Name: atemp, dtype: int64\n",
            "------------------------------------\n",
            "Эксцесс  -0.8502363689497141\n",
            "Ассиметрия  -0.10254538108264065\n"
          ]
        },
        {
          "output_type": "stream",
          "name": "stderr",
          "text": [
            "/usr/local/lib/python3.7/dist-packages/seaborn/distributions.py:2619: FutureWarning: `distplot` is a deprecated function and will be removed in a future version. Please adapt your code to use either `displot` (a figure-level function with similar flexibility) or `histplot` (an axes-level function for histograms).\n",
            "  warnings.warn(msg, FutureWarning)\n"
          ]
        },
        {
          "output_type": "display_data",
          "data": {
            "text/plain": [
              "<Figure size 432x288 with 1 Axes>"
            ],
            "image/png": "[encoded data removed]"
          },
          "metadata": {
            "needs_background": "light"
          }
        }
      ]
    },
    {
      "cell_type": "code",
      "source": [
        "#Наше распределение с натяжкой можно назвать нормальным распределением потому что у нее низкий пик и есть выбросы. Для увереннсти проверим его при помощи QQ plot\n",
        "#График сравнивает квантили выборки и выбранноого распределения - в нашем случае, нормального."
      ],
      "metadata": {
        "id": "h2Ys18dJpZk6"
      },
      "execution_count": 88,
      "outputs": []
    },
    {
      "cell_type": "code",
      "source": [
        "sm.qqplot(df.atemp, fit = True)\n",
        "plt.title(\"QQ plot\")\n",
        "plt.show()"
      ],
      "metadata": {
        "colab": {
          "base_uri": "https://localhost:8080/",
          "height": 295
        },
        "id": "Ixt25athpeiM",
        "outputId": "33a2c908-e10c-45a9-b8cd-3c389939183e"
      },
      "execution_count": 87,
      "outputs": [
        {
          "output_type": "display_data",
          "data": {
            "text/plain": [
              "<Figure size 432x288 with 1 Axes>"
            ],
            "image/png": "[encoded data removed]"
          },
          "metadata": {
            "needs_background": "light"
          }
        }
      ]
    },
    {
      "cell_type": "code",
      "source": [
        "#Кажется, что можно использовать стандартные доверительные интервалы для нормального распределения. Для этого воспользуемся функцией"
      ],
      "metadata": {
        "id": "YNsIeUf0qDiT"
      },
      "execution_count": 89,
      "outputs": []
    },
    {
      "cell_type": "code",
      "metadata": {
        "id": "aTZcgylVP-R2"
      },
      "source": [
        "def my_norm_confidence(df=df, column = \"atemp\", alpha = 0.95):\n",
        "    interval = stats.norm.interval(alpha, loc=df[column].mean(), scale=df[column].std())\n",
        "    return interval"
      ],
      "execution_count": 74,
      "outputs": []
    },
    {
      "cell_type": "code",
      "source": [
        "confidence = my_norm_confidence()\n",
        "print(confidence)"
      ],
      "metadata": {
        "colab": {
          "base_uri": "https://localhost:8080/"
        },
        "id": "_up3DxWMerBZ",
        "outputId": "ab0cbe1c-62dd-4b04-9e9d-64a524fe739f"
      },
      "execution_count": 75,
      "outputs": [
        {
          "output_type": "stream",
          "name": "stdout",
          "text": [
            "(7.045172041640921, 40.26499606418308)\n"
          ]
        }
      ]
    },
    {
      "cell_type": "code",
      "source": [
        "df.temp.plot()\n",
        "plt.axhline(y=confidence[1], color=\"g\", linestyle=\"-\")\n",
        "plt.axhline(y=confidence[0], color=\"r\", linestyle=\"-\")\n",
        "plt.title(\"Доверительный интервал\")"
      ],
      "metadata": {
        "colab": {
          "base_uri": "https://localhost:8080/",
          "height": 298
        },
        "id": "rVG_IRWoe0TA",
        "outputId": "ca145fcb-7bfb-490e-8307-34fd3334dbb2"
      },
      "execution_count": 76,
      "outputs": [
        {
          "output_type": "execute_result",
          "data": {
            "text/plain": [
              "Text(0.5, 1.0, 'Доверительный интервал')"
            ]
          },
          "metadata": {},
          "execution_count": 76
        },
        {
          "output_type": "display_data",
          "data": {
            "text/plain": [
              "<Figure size 432x288 with 1 Axes>"
            ],
            "image/png": "[encoded data removed]"
          },
          "metadata": {
            "needs_background": "light"
          }
        }
      ]
    },
    {
      "cell_type": "markdown",
      "metadata": {
        "id": "umVFTDezeLHr"
      },
      "source": [
        "### 5. (*)\n",
        "\n",
        "Найдите количество значений, выходящих за три сигмы для каждой из метрик. Где получилось больше всего аномалий?"
      ]
    },
    {
      "cell_type": "code",
      "source": [
        "ns = df.atemp.count()\n",
        "n_mean = df.atemp.mean()\n",
        "n_sigma = df.atemp.std()\n",
        "\n",
        "n1_mean = df.registered.mean()\n",
        "n1_sigma = df.registered.std()\n",
        "n2_mean = df.casual.mean()\n",
        "n2_sigma = df.casual.std()"
      ],
      "metadata": {
        "id": "8HDrwL3h2IFg"
      },
      "execution_count": 189,
      "outputs": []
    },
    {
      "cell_type": "code",
      "metadata": {
        "id": "GREA7G-XeLHs"
      },
      "source": [
        "### YOUR CODE HERE ###\n",
        "#Нормальное распределение\n",
        "dfn = np.random.normal(n_mean, n_sigma, ns)\n",
        "dfn = pd.DataFrame(dfn,columns = [\"atemp\"])\n",
        "dfn.atemp = round(dfn.atemp,0)\n"
      ],
      "execution_count": 173,
      "outputs": []
    },
    {
      "cell_type": "code",
      "source": [
        "#Смесь нормальных распределений \n",
        "l1 = np.random.normal(n1_mean, n1_sigma, ns)\n",
        "l2 = np.random.normal(n2_mean, n2_sigma, ns)\n",
        "\n",
        "dfl1 = pd.DataFrame(l1,columns = [\"registered\"])\n",
        "dfl1.registered = round(dfl1.registered,0)\n",
        "\n",
        "dfl2 = pd.DataFrame(l2,columns = [\"casual\"])\n",
        "dfl2.casual = round(dfl2.casual,0)\n",
        "\n",
        "dfl = dfl1.append(dfl2)"
      ],
      "metadata": {
        "id": "kbWf6bTzCZyi"
      },
      "execution_count": 191,
      "outputs": []
    },
    {
      "cell_type": "code",
      "source": [
        "dfn.describe()"
      ],
      "metadata": {
        "colab": {
          "base_uri": "https://localhost:8080/",
          "height": 300
        },
        "id": "0m9SOIXF22ti",
        "outputId": "0c31d11e-c137-458e-b202-8c08e930d5ce"
      },
      "execution_count": 160,
      "outputs": [
        {
          "output_type": "execute_result",
          "data": {
            "text/plain": [
              "              atemp\n",
              "count  10886.000000\n",
              "mean      23.624104\n",
              "std        8.514010\n",
              "min       -8.000000\n",
              "25%       18.000000\n",
              "50%       24.000000\n",
              "75%       29.000000\n",
              "max       56.000000"
            ],
            "text/html": [
              "\n",
              "  <div id=\"df-dc21fe7b-8a13-4b4c-bcde-a1884a78d0de\">\n",
              "    <div class=\"colab-df-container\">\n",
              "      <div>\n",
              "<style scoped>\n",
              "    .dataframe tbody tr th:only-of-type {\n",
              "        vertical-align: middle;\n",
              "    }\n",
              "\n",
              "    .dataframe tbody tr th {\n",
              "        vertical-align: top;\n",
              "    }\n",
              "\n",
              "    .dataframe thead th {\n",
              "        text-align: right;\n",
              "    }\n",
              "</style>\n",
              "<table border=\"1\" class=\"dataframe\">\n",
              "  <thead>\n",
              "    <tr style=\"text-align: right;\">\n",
              "      <th></th>\n",
              "      <th>atemp</th>\n",
              "    </tr>\n",
              "  </thead>\n",
              "  <tbody>\n",
              "    <tr>\n",
              "      <th>count</th>\n",
              "      <td>10886.000000</td>\n",
              "    </tr>\n",
              "    <tr>\n",
              "      <th>mean</th>\n",
              "      <td>23.624104</td>\n",
              "    </tr>\n",
              "    <tr>\n",
              "      <th>std</th>\n",
              "      <td>8.514010</td>\n",
              "    </tr>\n",
              "    <tr>\n",
              "      <th>min</th>\n",
              "      <td>-8.000000</td>\n",
              "    </tr>\n",
              "    <tr>\n",
              "      <th>25%</th>\n",
              "      <td>18.000000</td>\n",
              "    </tr>\n",
              "    <tr>\n",
              "      <th>50%</th>\n",
              "      <td>24.000000</td>\n",
              "    </tr>\n",
              "    <tr>\n",
              "      <th>75%</th>\n",
              "      <td>29.000000</td>\n",
              "    </tr>\n",
              "    <tr>\n",
              "      <th>max</th>\n",
              "      <td>56.000000</td>\n",
              "    </tr>\n",
              "  </tbody>\n",
              "</table>\n",
              "</div>\n",
              "      <button class=\"colab-df-convert\" onclick=\"convertToInteractive('df-dc21fe7b-8a13-4b4c-bcde-a1884a78d0de')\"\n",
              "              title=\"Convert this dataframe to an interactive table.\"\n",
              "              style=\"display:none;\">\n",
              "        \n",
              "  <svg xmlns=\"http://www.w3.org/2000/svg\" height=\"24px\"viewBox=\"0 0 24 24\"\n",
              "       width=\"24px\">\n",
              "    <path d=\"M0 0h24v24H0V0z\" fill=\"none\"/>\n",
              "    <path d=\"M18.56 5.44l.94 2.06.94-2.06 2.06-.94-2.06-.94-.94-2.06-.94 2.06-2.06.94zm-11 1L8.5 8.5l.94-2.06 2.06-.94-2.06-.94L8.5 2.5l-.94 2.06-2.06.94zm10 10l.94 2.06.94-2.06 2.06-.94-2.06-.94-.94-2.06-.94 2.06-2.06.94z\"/><path d=\"M17.41 7.96l-1.37-1.37c-.4-.4-.92-.59-1.43-.59-.52 0-1.04.2-1.43.59L10.3 9.45l-7.72 7.72c-.78.78-.78 2.05 0 2.83L4 21.41c.39.39.9.59 1.41.59.51 0 1.02-.2 1.41-.59l7.78-7.78 2.81-2.81c.8-.78.8-2.07 0-2.86zM5.41 20L4 18.59l7.72-7.72 1.47 1.35L5.41 20z\"/>\n",
              "  </svg>\n",
              "      </button>\n",
              "      \n",
              "  <style>\n",
              "    .colab-df-container {\n",
              "      display:flex;\n",
              "      flex-wrap:wrap;\n",
              "      gap: 12px;\n",
              "    }\n",
              "\n",
              "    .colab-df-convert {\n",
              "      background-color: #E8F0FE;\n",
              "      border: none;\n",
              "      border-radius: 50%;\n",
              "      cursor: pointer;\n",
              "      display: none;\n",
              "      fill: #1967D2;\n",
              "      height: 32px;\n",
              "      padding: 0 0 0 0;\n",
              "      width: 32px;\n",
              "    }\n",
              "\n",
              "    .colab-df-convert:hover {\n",
              "      background-color: #E2EBFA;\n",
              "      box-shadow: 0px 1px 2px rgba(60, 64, 67, 0.3), 0px 1px 3px 1px rgba(60, 64, 67, 0.15);\n",
              "      fill: #174EA6;\n",
              "    }\n",
              "\n",
              "    [theme=dark] .colab-df-convert {\n",
              "      background-color: #3B4455;\n",
              "      fill: #D2E3FC;\n",
              "    }\n",
              "\n",
              "    [theme=dark] .colab-df-convert:hover {\n",
              "      background-color: #434B5C;\n",
              "      box-shadow: 0px 1px 3px 1px rgba(0, 0, 0, 0.15);\n",
              "      filter: drop-shadow(0px 1px 2px rgba(0, 0, 0, 0.3));\n",
              "      fill: #FFFFFF;\n",
              "    }\n",
              "  </style>\n",
              "\n",
              "      <script>\n",
              "        const buttonEl =\n",
              "          document.querySelector('#df-dc21fe7b-8a13-4b4c-bcde-a1884a78d0de button.colab-df-convert');\n",
              "        buttonEl.style.display =\n",
              "          google.colab.kernel.accessAllowed ? 'block' : 'none';\n",
              "\n",
              "        async function convertToInteractive(key) {\n",
              "          const element = document.querySelector('#df-dc21fe7b-8a13-4b4c-bcde-a1884a78d0de');\n",
              "          const dataTable =\n",
              "            await google.colab.kernel.invokeFunction('convertToInteractive',\n",
              "                                                     [key], {});\n",
              "          if (!dataTable) return;\n",
              "\n",
              "          const docLinkHtml = 'Like what you see? Visit the ' +\n",
              "            '<a target=\"_blank\" href=https://colab.research.google.com/notebooks/data_table.ipynb>data table notebook</a>'\n",
              "            + ' to learn more about interactive tables.';\n",
              "          element.innerHTML = '';\n",
              "          dataTable['output_type'] = 'display_data';\n",
              "          await google.colab.output.renderOutput(dataTable, element);\n",
              "          const docLink = document.createElement('div');\n",
              "          docLink.innerHTML = docLinkHtml;\n",
              "          element.appendChild(docLink);\n",
              "        }\n",
              "      </script>\n",
              "    </div>\n",
              "  </div>\n",
              "  "
            ]
          },
          "metadata": {},
          "execution_count": 160
        }
      ]
    },
    {
      "cell_type": "code",
      "source": [
        "upper_level = dfn.volume.mean() + 3*dfn.volume.std()\n",
        "lower_level = dfn.volume.mean() - 3*dfn.volume.std()\n",
        "print(lower_level,upper_level)"
      ],
      "metadata": {
        "colab": {
          "base_uri": "https://localhost:8080/"
        },
        "id": "24Eopbr73GzC",
        "outputId": "be1f9250-7b84-4e39-f6cd-bf338f043dfc"
      },
      "execution_count": 148,
      "outputs": [
        {
          "output_type": "stream",
          "name": "stdout",
          "text": [
            "-1.6031290292275564 49.033406449767696\n"
          ]
        }
      ]
    },
    {
      "cell_type": "code",
      "source": [
        "level_99 = np.percentile(dfn.volume, 99)"
      ],
      "metadata": {
        "id": "X4LQjTkL3Nu7"
      },
      "execution_count": 149,
      "outputs": []
    },
    {
      "cell_type": "code",
      "source": [
        "sns.distplot(dfn.volume)\n",
        "plt.axvline(x=lower_level, color=\"r\", linestyle=\"-\")\n",
        "plt.axvline(x=upper_level, color=\"r\", linestyle=\"-\")\n",
        "plt.axvline(x=level_99, color=\"b\", linestyle=\"-\")\n",
        "plt.title(\"3 sigma и 99 квантиль для нормального распределения\")"
      ],
      "metadata": {
        "colab": {
          "base_uri": "https://localhost:8080/",
          "height": 367
        },
        "id": "Wo-3XUHa3SEf",
        "outputId": "03dcc17f-db8c-4388-84fd-dc27b694f71f"
      },
      "execution_count": 150,
      "outputs": [
        {
          "output_type": "stream",
          "name": "stderr",
          "text": [
            "/usr/local/lib/python3.7/dist-packages/seaborn/distributions.py:2619: FutureWarning: `distplot` is a deprecated function and will be removed in a future version. Please adapt your code to use either `displot` (a figure-level function with similar flexibility) or `histplot` (an axes-level function for histograms).\n",
            "  warnings.warn(msg, FutureWarning)\n"
          ]
        },
        {
          "output_type": "execute_result",
          "data": {
            "text/plain": [
              "Text(0.5, 1.0, '3 sigma и 99 квантиль для нормального распределения')"
            ]
          },
          "metadata": {},
          "execution_count": 150
        },
        {
          "output_type": "display_data",
          "data": {
            "text/plain": [
              "<Figure size 432x288 with 1 Axes>"
            ],
            "image/png": "[encoded data removed]"
          },
          "metadata": {
            "needs_background": "light"
          }
        }
      ]
    },
    {
      "cell_type": "code",
      "source": [
        "#правило трех сигм дает далее более жесткий фильтр, чем 99 квантиль.\n",
        "\n",
        "#Отфильтруем данные свыше трех сигм:"
      ],
      "metadata": {
        "id": "5vs-F11y9NQA"
      },
      "execution_count": null,
      "outputs": []
    },
    {
      "cell_type": "code",
      "source": [
        "dfn[dfn.atemp >= upper_level].describe()"
      ],
      "metadata": {
        "colab": {
          "base_uri": "https://localhost:8080/",
          "height": 300
        },
        "id": "94Fqr9mL83G8",
        "outputId": "58240583-91f1-4733-c387-e1a6e3263f03"
      },
      "execution_count": 163,
      "outputs": [
        {
          "output_type": "execute_result",
          "data": {
            "text/plain": [
              "           atemp\n",
              "count  19.000000\n",
              "mean   51.894737\n",
              "std     2.157538\n",
              "min    50.000000\n",
              "25%    50.000000\n",
              "50%    51.000000\n",
              "75%    53.000000\n",
              "max    56.000000"
            ],
            "text/html": [
              "\n",
              "  <div id=\"df-17a34233-18cb-4f3c-b3d5-81ebb41af24c\">\n",
              "    <div class=\"colab-df-container\">\n",
              "      <div>\n",
              "<style scoped>\n",
              "    .dataframe tbody tr th:only-of-type {\n",
              "        vertical-align: middle;\n",
              "    }\n",
              "\n",
              "    .dataframe tbody tr th {\n",
              "        vertical-align: top;\n",
              "    }\n",
              "\n",
              "    .dataframe thead th {\n",
              "        text-align: right;\n",
              "    }\n",
              "</style>\n",
              "<table border=\"1\" class=\"dataframe\">\n",
              "  <thead>\n",
              "    <tr style=\"text-align: right;\">\n",
              "      <th></th>\n",
              "      <th>atemp</th>\n",
              "    </tr>\n",
              "  </thead>\n",
              "  <tbody>\n",
              "    <tr>\n",
              "      <th>count</th>\n",
              "      <td>19.000000</td>\n",
              "    </tr>\n",
              "    <tr>\n",
              "      <th>mean</th>\n",
              "      <td>51.894737</td>\n",
              "    </tr>\n",
              "    <tr>\n",
              "      <th>std</th>\n",
              "      <td>2.157538</td>\n",
              "    </tr>\n",
              "    <tr>\n",
              "      <th>min</th>\n",
              "      <td>50.000000</td>\n",
              "    </tr>\n",
              "    <tr>\n",
              "      <th>25%</th>\n",
              "      <td>50.000000</td>\n",
              "    </tr>\n",
              "    <tr>\n",
              "      <th>50%</th>\n",
              "      <td>51.000000</td>\n",
              "    </tr>\n",
              "    <tr>\n",
              "      <th>75%</th>\n",
              "      <td>53.000000</td>\n",
              "    </tr>\n",
              "    <tr>\n",
              "      <th>max</th>\n",
              "      <td>56.000000</td>\n",
              "    </tr>\n",
              "  </tbody>\n",
              "</table>\n",
              "</div>\n",
              "      <button class=\"colab-df-convert\" onclick=\"convertToInteractive('df-17a34233-18cb-4f3c-b3d5-81ebb41af24c')\"\n",
              "              title=\"Convert this dataframe to an interactive table.\"\n",
              "              style=\"display:none;\">\n",
              "        \n",
              "  <svg xmlns=\"http://www.w3.org/2000/svg\" height=\"24px\"viewBox=\"0 0 24 24\"\n",
              "       width=\"24px\">\n",
              "    <path d=\"M0 0h24v24H0V0z\" fill=\"none\"/>\n",
              "    <path d=\"M18.56 5.44l.94 2.06.94-2.06 2.06-.94-2.06-.94-.94-2.06-.94 2.06-2.06.94zm-11 1L8.5 8.5l.94-2.06 2.06-.94-2.06-.94L8.5 2.5l-.94 2.06-2.06.94zm10 10l.94 2.06.94-2.06 2.06-.94-2.06-.94-.94-2.06-.94 2.06-2.06.94z\"/><path d=\"M17.41 7.96l-1.37-1.37c-.4-.4-.92-.59-1.43-.59-.52 0-1.04.2-1.43.59L10.3 9.45l-7.72 7.72c-.78.78-.78 2.05 0 2.83L4 21.41c.39.39.9.59 1.41.59.51 0 1.02-.2 1.41-.59l7.78-7.78 2.81-2.81c.8-.78.8-2.07 0-2.86zM5.41 20L4 18.59l7.72-7.72 1.47 1.35L5.41 20z\"/>\n",
              "  </svg>\n",
              "      </button>\n",
              "      \n",
              "  <style>\n",
              "    .colab-df-container {\n",
              "      display:flex;\n",
              "      flex-wrap:wrap;\n",
              "      gap: 12px;\n",
              "    }\n",
              "\n",
              "    .colab-df-convert {\n",
              "      background-color: #E8F0FE;\n",
              "      border: none;\n",
              "      border-radius: 50%;\n",
              "      cursor: pointer;\n",
              "      display: none;\n",
              "      fill: #1967D2;\n",
              "      height: 32px;\n",
              "      padding: 0 0 0 0;\n",
              "      width: 32px;\n",
              "    }\n",
              "\n",
              "    .colab-df-convert:hover {\n",
              "      background-color: #E2EBFA;\n",
              "      box-shadow: 0px 1px 2px rgba(60, 64, 67, 0.3), 0px 1px 3px 1px rgba(60, 64, 67, 0.15);\n",
              "      fill: #174EA6;\n",
              "    }\n",
              "\n",
              "    [theme=dark] .colab-df-convert {\n",
              "      background-color: #3B4455;\n",
              "      fill: #D2E3FC;\n",
              "    }\n",
              "\n",
              "    [theme=dark] .colab-df-convert:hover {\n",
              "      background-color: #434B5C;\n",
              "      box-shadow: 0px 1px 3px 1px rgba(0, 0, 0, 0.15);\n",
              "      filter: drop-shadow(0px 1px 2px rgba(0, 0, 0, 0.3));\n",
              "      fill: #FFFFFF;\n",
              "    }\n",
              "  </style>\n",
              "\n",
              "      <script>\n",
              "        const buttonEl =\n",
              "          document.querySelector('#df-17a34233-18cb-4f3c-b3d5-81ebb41af24c button.colab-df-convert');\n",
              "        buttonEl.style.display =\n",
              "          google.colab.kernel.accessAllowed ? 'block' : 'none';\n",
              "\n",
              "        async function convertToInteractive(key) {\n",
              "          const element = document.querySelector('#df-17a34233-18cb-4f3c-b3d5-81ebb41af24c');\n",
              "          const dataTable =\n",
              "            await google.colab.kernel.invokeFunction('convertToInteractive',\n",
              "                                                     [key], {});\n",
              "          if (!dataTable) return;\n",
              "\n",
              "          const docLinkHtml = 'Like what you see? Visit the ' +\n",
              "            '<a target=\"_blank\" href=https://colab.research.google.com/notebooks/data_table.ipynb>data table notebook</a>'\n",
              "            + ' to learn more about interactive tables.';\n",
              "          element.innerHTML = '';\n",
              "          dataTable['output_type'] = 'display_data';\n",
              "          await google.colab.output.renderOutput(dataTable, element);\n",
              "          const docLink = document.createElement('div');\n",
              "          docLink.innerHTML = docLinkHtml;\n",
              "          element.appendChild(docLink);\n",
              "        }\n",
              "      </script>\n",
              "    </div>\n",
              "  </div>\n",
              "  "
            ]
          },
          "metadata": {},
          "execution_count": 163
        }
      ]
    },
    {
      "cell_type": "code",
      "source": [
        "b_upper_level = dfl.registered.mean() + 3*dfl.registered.std()\n",
        "b_lower_level = dfl.casual.mean() - 3*dfl.casual.std()\n",
        "print(lower_level,upper_level)\n",
        "\n",
        "b_level_99 = np.percentile(dfl.casual, 99)\n",
        "print(level_99)\n",
        "\n",
        "sns.distplot(dfl.casual)\n",
        "plt.axvline(x=b_lower_level, color=\"r\", linestyle=\"-\")\n",
        "plt.axvline(x=b_upper_level, color=\"r\", linestyle=\"-\")\n",
        "plt.axvline(x=b_level_99, color=\"b\", linestyle=\"-\")\n",
        "plt.title(\"3 sigma и 99 квантиль для бимодального распределения\")"
      ],
      "metadata": {
        "colab": {
          "base_uri": "https://localhost:8080/",
          "height": 402
        },
        "id": "UYBakBcF_WJb",
        "outputId": "378a8436-0b95-49e5-b795-53715a81c07c"
      },
      "execution_count": 195,
      "outputs": [
        {
          "output_type": "stream",
          "name": "stdout",
          "text": [
            "-1.6031290292275564 49.033406449767696\n",
            "43.0\n"
          ]
        },
        {
          "output_type": "stream",
          "name": "stderr",
          "text": [
            "/usr/local/lib/python3.7/dist-packages/seaborn/distributions.py:2619: FutureWarning: `distplot` is a deprecated function and will be removed in a future version. Please adapt your code to use either `displot` (a figure-level function with similar flexibility) or `histplot` (an axes-level function for histograms).\n",
            "  warnings.warn(msg, FutureWarning)\n"
          ]
        },
        {
          "output_type": "execute_result",
          "data": {
            "text/plain": [
              "Text(0.5, 1.0, '3 sigma и 99 квантиль для бимодального распределения')"
            ]
          },
          "metadata": {},
          "execution_count": 195
        },
        {
          "output_type": "display_data",
          "data": {
            "text/plain": [
              "<Figure size 432x288 with 1 Axes>"
            ],
            "image/png": "[encoded data removed]"
          },
          "metadata": {
            "needs_background": "light"
          }
        }
      ]
    },
    {
      "cell_type": "code",
      "source": [
        "#Больше всего аномалий в casual"
      ],
      "metadata": {
        "id": "kkItc2OPLxDE"
      },
      "execution_count": null,
      "outputs": []
    },
    {
      "cell_type": "markdown",
      "metadata": {
        "id": "se4DGIgmeLHu"
      },
      "source": [
        "### 6.\n",
        "\n",
        "Постройте корреляционную матрицу и heatmap по метрикам. Какие выводы о наличии связей можно сделать?"
      ]
    },
    {
      "cell_type": "code",
      "metadata": {
        "id": "blps8a8qeLHv"
      },
      "source": [
        "### YOUR CODE HERE ###\n",
        "\n",
        "corr_m = df.corr()"
      ],
      "execution_count": 93,
      "outputs": []
    },
    {
      "cell_type": "code",
      "source": [
        "corr_m"
      ],
      "metadata": {
        "colab": {
          "base_uri": "https://localhost:8080/",
          "height": 394
        },
        "id": "ydJMq_b5rIkp",
        "outputId": "9a4a1b14-ecfa-42d2-dcd1-b008660713a4"
      },
      "execution_count": 94,
      "outputs": [
        {
          "output_type": "execute_result",
          "data": {
            "text/plain": [
              "              season   holiday  workingday   weather      temp     atemp  \\\n",
              "season      1.000000  0.029368   -0.008126  0.008879  0.258689  0.264744   \n",
              "holiday     0.029368  1.000000   -0.250491 -0.007074  0.000295 -0.005215   \n",
              "workingday -0.008126 -0.250491    1.000000  0.033772  0.029966  0.024660   \n",
              "weather     0.008879 -0.007074    0.033772  1.000000 -0.055035 -0.055376   \n",
              "temp        0.258689  0.000295    0.029966 -0.055035  1.000000  0.984948   \n",
              "atemp       0.264744 -0.005215    0.024660 -0.055376  0.984948  1.000000   \n",
              "humidity    0.190610  0.001929   -0.010880  0.406244 -0.064949 -0.043536   \n",
              "windspeed  -0.147121  0.008409    0.013373  0.007261 -0.017852 -0.057473   \n",
              "casual      0.096758  0.043799   -0.319111 -0.135918  0.467097  0.462067   \n",
              "registered  0.164011 -0.020956    0.119460 -0.109340  0.318571  0.314635   \n",
              "count       0.163439 -0.005393    0.011594 -0.128655  0.394454  0.389784   \n",
              "\n",
              "            humidity  windspeed    casual  registered     count  \n",
              "season      0.190610  -0.147121  0.096758    0.164011  0.163439  \n",
              "holiday     0.001929   0.008409  0.043799   -0.020956 -0.005393  \n",
              "workingday -0.010880   0.013373 -0.319111    0.119460  0.011594  \n",
              "weather     0.406244   0.007261 -0.135918   -0.109340 -0.128655  \n",
              "temp       -0.064949  -0.017852  0.467097    0.318571  0.394454  \n",
              "atemp      -0.043536  -0.057473  0.462067    0.314635  0.389784  \n",
              "humidity    1.000000  -0.318607 -0.348187   -0.265458 -0.317371  \n",
              "windspeed  -0.318607   1.000000  0.092276    0.091052  0.101369  \n",
              "casual     -0.348187   0.092276  1.000000    0.497250  0.690414  \n",
              "registered -0.265458   0.091052  0.497250    1.000000  0.970948  \n",
              "count      -0.317371   0.101369  0.690414    0.970948  1.000000  "
            ],
            "text/html": [
              "\n",
              "  <div id=\"df-1e007532-5120-42ec-a3ce-c5d0804b7153\">\n",
              "    <div class=\"colab-df-container\">\n",
              "      <div>\n",
              "<style scoped>\n",
              "    .dataframe tbody tr th:only-of-type {\n",
              "        vertical-align: middle;\n",
              "    }\n",
              "\n",
              "    .dataframe tbody tr th {\n",
              "        vertical-align: top;\n",
              "    }\n",
              "\n",
              "    .dataframe thead th {\n",
              "        text-align: right;\n",
              "    }\n",
              "</style>\n",
              "<table border=\"1\" class=\"dataframe\">\n",
              "  <thead>\n",
              "    <tr style=\"text-align: right;\">\n",
              "      <th></th>\n",
              "      <th>season</th>\n",
              "      <th>holiday</th>\n",
              "      <th>workingday</th>\n",
              "      <th>weather</th>\n",
              "      <th>temp</th>\n",
              "      <th>atemp</th>\n",
              "      <th>humidity</th>\n",
              "      <th>windspeed</th>\n",
              "      <th>casual</th>\n",
              "      <th>registered</th>\n",
              "      <th>count</th>\n",
              "    </tr>\n",
              "  </thead>\n",
              "  <tbody>\n",
              "    <tr>\n",
              "      <th>season</th>\n",
              "      <td>1.000000</td>\n",
              "      <td>0.029368</td>\n",
              "      <td>-0.008126</td>\n",
              "      <td>0.008879</td>\n",
              "      <td>0.258689</td>\n",
              "      <td>0.264744</td>\n",
              "      <td>0.190610</td>\n",
              "      <td>-0.147121</td>\n",
              "      <td>0.096758</td>\n",
              "      <td>0.164011</td>\n",
              "      <td>0.163439</td>\n",
              "    </tr>\n",
              "    <tr>\n",
              "      <th>holiday</th>\n",
              "      <td>0.029368</td>\n",
              "      <td>1.000000</td>\n",
              "      <td>-0.250491</td>\n",
              "      <td>-0.007074</td>\n",
              "      <td>0.000295</td>\n",
              "      <td>-0.005215</td>\n",
              "      <td>0.001929</td>\n",
              "      <td>0.008409</td>\n",
              "      <td>0.043799</td>\n",
              "      <td>-0.020956</td>\n",
              "      <td>-0.005393</td>\n",
              "    </tr>\n",
              "    <tr>\n",
              "      <th>workingday</th>\n",
              "      <td>-0.008126</td>\n",
              "      <td>-0.250491</td>\n",
              "      <td>1.000000</td>\n",
              "      <td>0.033772</td>\n",
              "      <td>0.029966</td>\n",
              "      <td>0.024660</td>\n",
              "      <td>-0.010880</td>\n",
              "      <td>0.013373</td>\n",
              "      <td>-0.319111</td>\n",
              "      <td>0.119460</td>\n",
              "      <td>0.011594</td>\n",
              "    </tr>\n",
              "    <tr>\n",
              "      <th>weather</th>\n",
              "      <td>0.008879</td>\n",
              "      <td>-0.007074</td>\n",
              "      <td>0.033772</td>\n",
              "      <td>1.000000</td>\n",
              "      <td>-0.055035</td>\n",
              "      <td>-0.055376</td>\n",
              "      <td>0.406244</td>\n",
              "      <td>0.007261</td>\n",
              "      <td>-0.135918</td>\n",
              "      <td>-0.109340</td>\n",
              "      <td>-0.128655</td>\n",
              "    </tr>\n",
              "    <tr>\n",
              "      <th>temp</th>\n",
              "      <td>0.258689</td>\n",
              "      <td>0.000295</td>\n",
              "      <td>0.029966</td>\n",
              "      <td>-0.055035</td>\n",
              "      <td>1.000000</td>\n",
              "      <td>0.984948</td>\n",
              "      <td>-0.064949</td>\n",
              "      <td>-0.017852</td>\n",
              "      <td>0.467097</td>\n",
              "      <td>0.318571</td>\n",
              "      <td>0.394454</td>\n",
              "    </tr>\n",
              "    <tr>\n",
              "      <th>atemp</th>\n",
              "      <td>0.264744</td>\n",
              "      <td>-0.005215</td>\n",
              "      <td>0.024660</td>\n",
              "      <td>-0.055376</td>\n",
              "      <td>0.984948</td>\n",
              "      <td>1.000000</td>\n",
              "      <td>-0.043536</td>\n",
              "      <td>-0.057473</td>\n",
              "      <td>0.462067</td>\n",
              "      <td>0.314635</td>\n",
              "      <td>0.389784</td>\n",
              "    </tr>\n",
              "    <tr>\n",
              "      <th>humidity</th>\n",
              "      <td>0.190610</td>\n",
              "      <td>0.001929</td>\n",
              "      <td>-0.010880</td>\n",
              "      <td>0.406244</td>\n",
              "      <td>-0.064949</td>\n",
              "      <td>-0.043536</td>\n",
              "      <td>1.000000</td>\n",
              "      <td>-0.318607</td>\n",
              "      <td>-0.348187</td>\n",
              "      <td>-0.265458</td>\n",
              "      <td>-0.317371</td>\n",
              "    </tr>\n",
              "    <tr>\n",
              "      <th>windspeed</th>\n",
              "      <td>-0.147121</td>\n",
              "      <td>0.008409</td>\n",
              "      <td>0.013373</td>\n",
              "      <td>0.007261</td>\n",
              "      <td>-0.017852</td>\n",
              "      <td>-0.057473</td>\n",
              "      <td>-0.318607</td>\n",
              "      <td>1.000000</td>\n",
              "      <td>0.092276</td>\n",
              "      <td>0.091052</td>\n",
              "      <td>0.101369</td>\n",
              "    </tr>\n",
              "    <tr>\n",
              "      <th>casual</th>\n",
              "      <td>0.096758</td>\n",
              "      <td>0.043799</td>\n",
              "      <td>-0.319111</td>\n",
              "      <td>-0.135918</td>\n",
              "      <td>0.467097</td>\n",
              "      <td>0.462067</td>\n",
              "      <td>-0.348187</td>\n",
              "      <td>0.092276</td>\n",
              "      <td>1.000000</td>\n",
              "      <td>0.497250</td>\n",
              "      <td>0.690414</td>\n",
              "    </tr>\n",
              "    <tr>\n",
              "      <th>registered</th>\n",
              "      <td>0.164011</td>\n",
              "      <td>-0.020956</td>\n",
              "      <td>0.119460</td>\n",
              "      <td>-0.109340</td>\n",
              "      <td>0.318571</td>\n",
              "      <td>0.314635</td>\n",
              "      <td>-0.265458</td>\n",
              "      <td>0.091052</td>\n",
              "      <td>0.497250</td>\n",
              "      <td>1.000000</td>\n",
              "      <td>0.970948</td>\n",
              "    </tr>\n",
              "    <tr>\n",
              "      <th>count</th>\n",
              "      <td>0.163439</td>\n",
              "      <td>-0.005393</td>\n",
              "      <td>0.011594</td>\n",
              "      <td>-0.128655</td>\n",
              "      <td>0.394454</td>\n",
              "      <td>0.389784</td>\n",
              "      <td>-0.317371</td>\n",
              "      <td>0.101369</td>\n",
              "      <td>0.690414</td>\n",
              "      <td>0.970948</td>\n",
              "      <td>1.000000</td>\n",
              "    </tr>\n",
              "  </tbody>\n",
              "</table>\n",
              "</div>\n",
              "      <button class=\"colab-df-convert\" onclick=\"convertToInteractive('df-1e007532-5120-42ec-a3ce-c5d0804b7153')\"\n",
              "              title=\"Convert this dataframe to an interactive table.\"\n",
              "              style=\"display:none;\">\n",
              "        \n",
              "  <svg xmlns=\"http://www.w3.org/2000/svg\" height=\"24px\"viewBox=\"0 0 24 24\"\n",
              "       width=\"24px\">\n",
              "    <path d=\"M0 0h24v24H0V0z\" fill=\"none\"/>\n",
              "    <path d=\"M18.56 5.44l.94 2.06.94-2.06 2.06-.94-2.06-.94-.94-2.06-.94 2.06-2.06.94zm-11 1L8.5 8.5l.94-2.06 2.06-.94-2.06-.94L8.5 2.5l-.94 2.06-2.06.94zm10 10l.94 2.06.94-2.06 2.06-.94-2.06-.94-.94-2.06-.94 2.06-2.06.94z\"/><path d=\"M17.41 7.96l-1.37-1.37c-.4-.4-.92-.59-1.43-.59-.52 0-1.04.2-1.43.59L10.3 9.45l-7.72 7.72c-.78.78-.78 2.05 0 2.83L4 21.41c.39.39.9.59 1.41.59.51 0 1.02-.2 1.41-.59l7.78-7.78 2.81-2.81c.8-.78.8-2.07 0-2.86zM5.41 20L4 18.59l7.72-7.72 1.47 1.35L5.41 20z\"/>\n",
              "  </svg>\n",
              "      </button>\n",
              "      \n",
              "  <style>\n",
              "    .colab-df-container {\n",
              "      display:flex;\n",
              "      flex-wrap:wrap;\n",
              "      gap: 12px;\n",
              "    }\n",
              "\n",
              "    .colab-df-convert {\n",
              "      background-color: #E8F0FE;\n",
              "      border: none;\n",
              "      border-radius: 50%;\n",
              "      cursor: pointer;\n",
              "      display: none;\n",
              "      fill: #1967D2;\n",
              "      height: 32px;\n",
              "      padding: 0 0 0 0;\n",
              "      width: 32px;\n",
              "    }\n",
              "\n",
              "    .colab-df-convert:hover {\n",
              "      background-color: #E2EBFA;\n",
              "      box-shadow: 0px 1px 2px rgba(60, 64, 67, 0.3), 0px 1px 3px 1px rgba(60, 64, 67, 0.15);\n",
              "      fill: #174EA6;\n",
              "    }\n",
              "\n",
              "    [theme=dark] .colab-df-convert {\n",
              "      background-color: #3B4455;\n",
              "      fill: #D2E3FC;\n",
              "    }\n",
              "\n",
              "    [theme=dark] .colab-df-convert:hover {\n",
              "      background-color: #434B5C;\n",
              "      box-shadow: 0px 1px 3px 1px rgba(0, 0, 0, 0.15);\n",
              "      filter: drop-shadow(0px 1px 2px rgba(0, 0, 0, 0.3));\n",
              "      fill: #FFFFFF;\n",
              "    }\n",
              "  </style>\n",
              "\n",
              "      <script>\n",
              "        const buttonEl =\n",
              "          document.querySelector('#df-1e007532-5120-42ec-a3ce-c5d0804b7153 button.colab-df-convert');\n",
              "        buttonEl.style.display =\n",
              "          google.colab.kernel.accessAllowed ? 'block' : 'none';\n",
              "\n",
              "        async function convertToInteractive(key) {\n",
              "          const element = document.querySelector('#df-1e007532-5120-42ec-a3ce-c5d0804b7153');\n",
              "          const dataTable =\n",
              "            await google.colab.kernel.invokeFunction('convertToInteractive',\n",
              "                                                     [key], {});\n",
              "          if (!dataTable) return;\n",
              "\n",
              "          const docLinkHtml = 'Like what you see? Visit the ' +\n",
              "            '<a target=\"_blank\" href=https://colab.research.google.com/notebooks/data_table.ipynb>data table notebook</a>'\n",
              "            + ' to learn more about interactive tables.';\n",
              "          element.innerHTML = '';\n",
              "          dataTable['output_type'] = 'display_data';\n",
              "          await google.colab.output.renderOutput(dataTable, element);\n",
              "          const docLink = document.createElement('div');\n",
              "          docLink.innerHTML = docLinkHtml;\n",
              "          element.appendChild(docLink);\n",
              "        }\n",
              "      </script>\n",
              "    </div>\n",
              "  </div>\n",
              "  "
            ]
          },
          "metadata": {},
          "execution_count": 94
        }
      ]
    },
    {
      "cell_type": "code",
      "source": [
        "plt.figure(figsize=(7,5))\n",
        "sns.heatmap(corr_m, center=0, annot=True)"
      ],
      "metadata": {
        "colab": {
          "base_uri": "https://localhost:8080/",
          "height": 389
        },
        "id": "frWL9syYrYHN",
        "outputId": "f7e252be-acc8-46d6-b307-0a82c0a977ea"
      },
      "execution_count": 95,
      "outputs": [
        {
          "output_type": "execute_result",
          "data": {
            "text/plain": [
              "<matplotlib.axes._subplots.AxesSubplot at 0x7f5a2cb29050>"
            ]
          },
          "metadata": {},
          "execution_count": 95
        },
        {
          "output_type": "display_data",
          "data": {
            "text/plain": [
              "<Figure size 504x360 with 2 Axes>"
            ],
            "image/png": "[encoded data removed]"
          },
          "metadata": {
            "needs_background": "light"
          }
        }
      ]
    },
    {
      "cell_type": "code",
      "source": [
        "#Из графика видно что есть сильные обратные связи и несколько прямых связей.\n",
        "# Есть сильная связь регистрацией и количеством\n",
        "# Так же есть сильная связь между между casual count"
      ],
      "metadata": {
        "id": "oGPFe0j-rsQ2"
      },
      "execution_count": 101,
      "outputs": []
    }
  ]
}