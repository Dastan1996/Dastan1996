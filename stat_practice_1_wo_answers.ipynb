{
  "nbformat": 4,
  "nbformat_minor": 0,
  "metadata": {
    "kernelspec": {
      "display_name": "Python 3",
      "language": "python",
      "name": "python3"
    },
    "language_info": {
      "codemirror_mode": {
        "name": "ipython",
        "version": 3
      },
      "file_extension": ".py",
      "mimetype": "text/x-python",
      "name": "python",
      "nbconvert_exporter": "python",
      "pygments_lexer": "ipython3",
      "version": "3.7.0"
    },
    "colab": {
      "name": "stat_practice_1_wo_answers.ipynb",
      "provenance": [],
      "collapsed_sections": [],
      "include_colab_link": true
    }
  },
  "cells": [
    {
      "cell_type": "markdown",
      "metadata": {
        "id": "view-in-github",
        "colab_type": "text"
      },
      "source": [
        "<a href=\"https://colab.research.google.com/github/Dastan1996/Dastan1996/blob/main/stat_practice_1_wo_answers.ipynb\" target=\"_parent\"><img src=\"https://colab.research.google.com/assets/colab-badge.svg\" alt=\"Open In Colab\"/></a>"
      ]
    },
    {
      "cell_type": "markdown",
      "metadata": {
        "id": "7n3JuiYu8izW"
      },
      "source": [
        "# Практика по базовой математической статистике для Data scientist"
      ]
    },
    {
      "cell_type": "markdown",
      "metadata": {
        "id": "vvfe_Vw18izY"
      },
      "source": [
        "# Практика 1 - анализ распределения случайной величины"
      ]
    },
    {
      "cell_type": "markdown",
      "metadata": {
        "id": "pXgbbD9h8izY"
      },
      "source": [
        "- Генерация распределений - делаем синтетический датасет по заданным параметрам распределений (пара вариантов из непрерывных функций)\n",
        "- Построение гистограммы распределения при помощи mathplotlib / seaborn.\n",
        "- Анализ основных метрик распределения с помощью pandas и numpy - учимся делать выводы по оценкам случайной величины и форме распределения."
      ]
    },
    {
      "cell_type": "markdown",
      "metadata": {
        "id": "uETD57jy8izZ"
      },
      "source": [
        "Для начала импортируем все полезные библитеки и настроим ноутбук"
      ]
    },
    {
      "cell_type": "code",
      "metadata": {
        "id": "gIqTTG5q8iza"
      },
      "source": [
        "import pandas as pd\n",
        "import numpy as np\n",
        "import matplotlib.pyplot as plt\n",
        "import seaborn as sns\n",
        "import scipy.special as sps\n",
        "import warnings\n",
        "from scipy.stats import kurtosis\n",
        "from scipy.stats import skew\n",
        "\n",
        "%matplotlib inline\n",
        "plt.rcParams[\"figure.figsize\"] = (10.0, 7.0)\n",
        "warnings.filterwarnings(\"ignore\")"
      ],
      "execution_count": null,
      "outputs": []
    },
    {
      "cell_type": "markdown",
      "metadata": {
        "id": "6FCOdwxo8izd"
      },
      "source": [
        "Пусть у нас будут два датасета - прибыль по клиентам разных групп, распределенные по нормальному закону N(500,1000) и Гамма закону, параметры которого будет необходимо вычислить на основе средней прибыли = 500 и среднеквадратическому отклонению = 1000.\n",
        "\n",
        "Сгенерируем синтетические выборки размера ns = 10000 клиентов каждая."
      ]
    },
    {
      "cell_type": "code",
      "metadata": {
        "id": "jUtKFIBt8izd"
      },
      "source": [
        "ns = 10000\n",
        "n_mean = 500\n",
        "n_sigma = 1000"
      ],
      "execution_count": null,
      "outputs": []
    },
    {
      "cell_type": "markdown",
      "metadata": {
        "id": "xoRQN-yP8izg"
      },
      "source": [
        "## Работаем с симметричным распределением"
      ]
    },
    {
      "cell_type": "markdown",
      "metadata": {
        "id": "_E5fIt918izg"
      },
      "source": [
        "Используем имитацию нормального распределения отсюда\n",
        "https://docs.scipy.org/doc/numpy-1.15.0/reference/generated/numpy.random.normal.html"
      ]
    },
    {
      "cell_type": "code",
      "metadata": {
        "id": "KfKdtR678izh"
      },
      "source": [
        "v = np.random.normal(n_mean, n_sigma, ns)\n",
        "v = pd.DataFrame(v,columns = [\"volume\"])\n",
        "v.volume = round(v.volume,0)"
      ],
      "execution_count": null,
      "outputs": []
    },
    {
      "cell_type": "code",
      "metadata": {
        "id": "Q39rb-2g8izj",
        "outputId": "7fe3a2c5-607d-4889-c8af-69a369d504c9",
        "colab": {
          "base_uri": "https://localhost:8080/",
          "height": 206
        }
      },
      "source": [
        "v.head()"
      ],
      "execution_count": null,
      "outputs": [
        {
          "output_type": "execute_result",
          "data": {
            "text/plain": [
              "   volume\n",
              "0   855.0\n",
              "1  1683.0\n",
              "2   753.0\n",
              "3   -76.0\n",
              "4   154.0"
            ],
            "text/html": [
              "\n",
              "  <div id=\"df-b3f0d928-67e5-4cda-80e6-7b7c6190df41\">\n",
              "    <div class=\"colab-df-container\">\n",
              "      <div>\n",
              "<style scoped>\n",
              "    .dataframe tbody tr th:only-of-type {\n",
              "        vertical-align: middle;\n",
              "    }\n",
              "\n",
              "    .dataframe tbody tr th {\n",
              "        vertical-align: top;\n",
              "    }\n",
              "\n",
              "    .dataframe thead th {\n",
              "        text-align: right;\n",
              "    }\n",
              "</style>\n",
              "<table border=\"1\" class=\"dataframe\">\n",
              "  <thead>\n",
              "    <tr style=\"text-align: right;\">\n",
              "      <th></th>\n",
              "      <th>volume</th>\n",
              "    </tr>\n",
              "  </thead>\n",
              "  <tbody>\n",
              "    <tr>\n",
              "      <th>0</th>\n",
              "      <td>855.0</td>\n",
              "    </tr>\n",
              "    <tr>\n",
              "      <th>1</th>\n",
              "      <td>1683.0</td>\n",
              "    </tr>\n",
              "    <tr>\n",
              "      <th>2</th>\n",
              "      <td>753.0</td>\n",
              "    </tr>\n",
              "    <tr>\n",
              "      <th>3</th>\n",
              "      <td>-76.0</td>\n",
              "    </tr>\n",
              "    <tr>\n",
              "      <th>4</th>\n",
              "      <td>154.0</td>\n",
              "    </tr>\n",
              "  </tbody>\n",
              "</table>\n",
              "</div>\n",
              "      <button class=\"colab-df-convert\" onclick=\"convertToInteractive('df-b3f0d928-67e5-4cda-80e6-7b7c6190df41')\"\n",
              "              title=\"Convert this dataframe to an interactive table.\"\n",
              "              style=\"display:none;\">\n",
              "        \n",
              "  <svg xmlns=\"http://www.w3.org/2000/svg\" height=\"24px\"viewBox=\"0 0 24 24\"\n",
              "       width=\"24px\">\n",
              "    <path d=\"M0 0h24v24H0V0z\" fill=\"none\"/>\n",
              "    <path d=\"M18.56 5.44l.94 2.06.94-2.06 2.06-.94-2.06-.94-.94-2.06-.94 2.06-2.06.94zm-11 1L8.5 8.5l.94-2.06 2.06-.94-2.06-.94L8.5 2.5l-.94 2.06-2.06.94zm10 10l.94 2.06.94-2.06 2.06-.94-2.06-.94-.94-2.06-.94 2.06-2.06.94z\"/><path d=\"M17.41 7.96l-1.37-1.37c-.4-.4-.92-.59-1.43-.59-.52 0-1.04.2-1.43.59L10.3 9.45l-7.72 7.72c-.78.78-.78 2.05 0 2.83L4 21.41c.39.39.9.59 1.41.59.51 0 1.02-.2 1.41-.59l7.78-7.78 2.81-2.81c.8-.78.8-2.07 0-2.86zM5.41 20L4 18.59l7.72-7.72 1.47 1.35L5.41 20z\"/>\n",
              "  </svg>\n",
              "      </button>\n",
              "      \n",
              "  <style>\n",
              "    .colab-df-container {\n",
              "      display:flex;\n",
              "      flex-wrap:wrap;\n",
              "      gap: 12px;\n",
              "    }\n",
              "\n",
              "    .colab-df-convert {\n",
              "      background-color: #E8F0FE;\n",
              "      border: none;\n",
              "      border-radius: 50%;\n",
              "      cursor: pointer;\n",
              "      display: none;\n",
              "      fill: #1967D2;\n",
              "      height: 32px;\n",
              "      padding: 0 0 0 0;\n",
              "      width: 32px;\n",
              "    }\n",
              "\n",
              "    .colab-df-convert:hover {\n",
              "      background-color: #E2EBFA;\n",
              "      box-shadow: 0px 1px 2px rgba(60, 64, 67, 0.3), 0px 1px 3px 1px rgba(60, 64, 67, 0.15);\n",
              "      fill: #174EA6;\n",
              "    }\n",
              "\n",
              "    [theme=dark] .colab-df-convert {\n",
              "      background-color: #3B4455;\n",
              "      fill: #D2E3FC;\n",
              "    }\n",
              "\n",
              "    [theme=dark] .colab-df-convert:hover {\n",
              "      background-color: #434B5C;\n",
              "      box-shadow: 0px 1px 3px 1px rgba(0, 0, 0, 0.15);\n",
              "      filter: drop-shadow(0px 1px 2px rgba(0, 0, 0, 0.3));\n",
              "      fill: #FFFFFF;\n",
              "    }\n",
              "  </style>\n",
              "\n",
              "      <script>\n",
              "        const buttonEl =\n",
              "          document.querySelector('#df-b3f0d928-67e5-4cda-80e6-7b7c6190df41 button.colab-df-convert');\n",
              "        buttonEl.style.display =\n",
              "          google.colab.kernel.accessAllowed ? 'block' : 'none';\n",
              "\n",
              "        async function convertToInteractive(key) {\n",
              "          const element = document.querySelector('#df-b3f0d928-67e5-4cda-80e6-7b7c6190df41');\n",
              "          const dataTable =\n",
              "            await google.colab.kernel.invokeFunction('convertToInteractive',\n",
              "                                                     [key], {});\n",
              "          if (!dataTable) return;\n",
              "\n",
              "          const docLinkHtml = 'Like what you see? Visit the ' +\n",
              "            '<a target=\"_blank\" href=https://colab.research.google.com/notebooks/data_table.ipynb>data table notebook</a>'\n",
              "            + ' to learn more about interactive tables.';\n",
              "          element.innerHTML = '';\n",
              "          dataTable['output_type'] = 'display_data';\n",
              "          await google.colab.output.renderOutput(dataTable, element);\n",
              "          const docLink = document.createElement('div');\n",
              "          docLink.innerHTML = docLinkHtml;\n",
              "          element.appendChild(docLink);\n",
              "        }\n",
              "      </script>\n",
              "    </div>\n",
              "  </div>\n",
              "  "
            ]
          },
          "metadata": {},
          "execution_count": 5
        }
      ]
    },
    {
      "cell_type": "markdown",
      "metadata": {
        "id": "ZJWlkZYa8izn"
      },
      "source": [
        "Для оценки среднего, среднеквадратического отклонения и квантилей можно воспользоваться отдельными методами pandas и numpy"
      ]
    },
    {
      "cell_type": "code",
      "metadata": {
        "id": "1kh_-Wpt8izo",
        "outputId": "6d4063f8-7872-42dd-b7b0-dd001329c27c",
        "colab": {
          "base_uri": "https://localhost:8080/"
        }
      },
      "source": [
        "# Среднее\n",
        "v.volume.mean()"
      ],
      "execution_count": null,
      "outputs": [
        {
          "output_type": "execute_result",
          "data": {
            "text/plain": [
              "493.3498"
            ]
          },
          "metadata": {},
          "execution_count": 6
        }
      ]
    },
    {
      "cell_type": "code",
      "metadata": {
        "id": "hOvJUx498izq",
        "outputId": "6e6c3fcc-9768-4a3b-c5d5-47f67986bb9f",
        "colab": {
          "base_uri": "https://localhost:8080/"
        }
      },
      "source": [
        "# Медиана\n",
        "v.volume.median()"
      ],
      "execution_count": null,
      "outputs": [
        {
          "output_type": "execute_result",
          "data": {
            "text/plain": [
              "510.0"
            ]
          },
          "metadata": {},
          "execution_count": 7
        }
      ]
    },
    {
      "cell_type": "code",
      "metadata": {
        "scrolled": true,
        "id": "8-5cyKwI8izt",
        "outputId": "3e355f49-8408-4999-dfc7-939a1af86445",
        "colab": {
          "base_uri": "https://localhost:8080/"
        }
      },
      "source": [
        "# Мода\n",
        "v.volume.value_counts().nlargest(10)"
      ],
      "execution_count": null,
      "outputs": [
        {
          "output_type": "execute_result",
          "data": {
            "text/plain": [
              " 401.0     12\n",
              " 671.0     11\n",
              "-182.0     11\n",
              "-108.0     11\n",
              " 578.0     11\n",
              " 886.0     10\n",
              " 1037.0    10\n",
              " 100.0     10\n",
              " 641.0     10\n",
              " 662.0     10\n",
              "Name: volume, dtype: int64"
            ]
          },
          "metadata": {},
          "execution_count": 8
        }
      ]
    },
    {
      "cell_type": "code",
      "metadata": {
        "id": "P4eC7j908izv",
        "outputId": "c0e6131b-df1b-4f0d-8a0f-aefe2b300eca",
        "colab": {
          "base_uri": "https://localhost:8080/"
        }
      },
      "source": [
        "# Среднеквадратическое отклонение - далее ско\n",
        "v.volume.std()"
      ],
      "execution_count": null,
      "outputs": [
        {
          "output_type": "execute_result",
          "data": {
            "text/plain": [
              "1013.8445029231902"
            ]
          },
          "metadata": {},
          "execution_count": 9
        }
      ]
    },
    {
      "cell_type": "code",
      "metadata": {
        "id": "MoQ5Jmfw8izy",
        "outputId": "f312b7f3-3120-4e44-c5a6-29fb364102fb",
        "colab": {
          "base_uri": "https://localhost:8080/"
        }
      },
      "source": [
        "#  Квантиль - медиана\n",
        "np.percentile(v.volume, 50)"
      ],
      "execution_count": null,
      "outputs": [
        {
          "output_type": "execute_result",
          "data": {
            "text/plain": [
              "510.0"
            ]
          },
          "metadata": {},
          "execution_count": 10
        }
      ]
    },
    {
      "cell_type": "code",
      "metadata": {
        "id": "JLQyPYY08iz0",
        "outputId": "0fc8b00f-e288-4700-9a08-d2d59aff329e",
        "colab": {
          "base_uri": "https://localhost:8080/"
        }
      },
      "source": [
        "# Кванталь - 0.75\n",
        "np.percentile(v.volume, 75)"
      ],
      "execution_count": null,
      "outputs": [
        {
          "output_type": "execute_result",
          "data": {
            "text/plain": [
              "1181.0"
            ]
          },
          "metadata": {},
          "execution_count": 11
        }
      ]
    },
    {
      "cell_type": "markdown",
      "metadata": {
        "id": "pmrqQWYr8iz3"
      },
      "source": [
        "Однако, удобнее воспользоваться встроенные методом pandas describe()"
      ]
    },
    {
      "cell_type": "code",
      "metadata": {
        "id": "9RjLVIRp8iz4",
        "outputId": "210d1e6e-dc83-48a2-d820-0b73a632f8fd",
        "colab": {
          "base_uri": "https://localhost:8080/"
        }
      },
      "source": [
        "v.volume.describe()"
      ],
      "execution_count": null,
      "outputs": [
        {
          "output_type": "execute_result",
          "data": {
            "text/plain": [
              "count    10000.000000\n",
              "mean       493.349800\n",
              "std       1013.844503\n",
              "min      -3244.000000\n",
              "25%       -187.000000\n",
              "50%        510.000000\n",
              "75%       1181.000000\n",
              "max       4212.000000\n",
              "Name: volume, dtype: float64"
            ]
          },
          "metadata": {},
          "execution_count": 12
        }
      ]
    },
    {
      "cell_type": "markdown",
      "metadata": {
        "id": "GnVXHpsO8iz6"
      },
      "source": [
        "Здесь мы видим как среднее значение, так максимум, минимум, ско и все полезные квантили.\n",
        "\n",
        "Теперь построим гистограмму распределения - сделаем это двумя способами, при помощи seaborn и встроенного метода pandas hist()"
      ]
    },
    {
      "cell_type": "code",
      "metadata": {
        "id": "QUlmf5D68iz7",
        "outputId": "6d0d4196-56d1-4432-f325-798695224f00",
        "colab": {
          "base_uri": "https://localhost:8080/",
          "height": 462
        }
      },
      "source": [
        "# При помощи seaborn\n",
        "sns.distplot(v)\n",
        "plt.title(\"Распределение прибыли по пользователям группы 1\")"
      ],
      "execution_count": null,
      "outputs": [
        {
          "output_type": "execute_result",
          "data": {
            "text/plain": [
              "Text(0.5, 1.0, 'Распределение прибыли по пользователям группы 1')"
            ]
          },
          "metadata": {},
          "execution_count": 13
        },
        {
          "output_type": "display_data",
          "data": {
            "text/plain": [
              "<Figure size 720x504 with 1 Axes>"
            ],
            "image/png": "[encoded data removed]"
          },
          "metadata": {
            "needs_background": "light"
          }
        }
      ]
    },
    {
      "cell_type": "code",
      "metadata": {
        "id": "clf5oCgV8i0D",
        "outputId": "fde9187e-a0e3-47db-bbfc-1c951597f685",
        "colab": {
          "base_uri": "https://localhost:8080/",
          "height": 462
        }
      },
      "source": [
        "# При помощи pandas\n",
        "v.volume.hist(bins = 100)\n",
        "plt.title(\"Распределение прибыли по пользователям группы 1\")"
      ],
      "execution_count": null,
      "outputs": [
        {
          "output_type": "execute_result",
          "data": {
            "text/plain": [
              "Text(0.5, 1.0, 'Распределение прибыли по пользователям группы 1')"
            ]
          },
          "metadata": {},
          "execution_count": 14
        },
        {
          "output_type": "display_data",
          "data": {
            "text/plain": [
              "<Figure size 720x504 with 1 Axes>"
            ],
            "image/png": "[encoded data removed]"
          },
          "metadata": {
            "needs_background": "light"
          }
        }
      ]
    },
    {
      "cell_type": "markdown",
      "metadata": {
        "id": "dStXrLG88i0M"
      },
      "source": [
        "И не забудем про коэффициенты эксцесса и ассиметрии"
      ]
    },
    {
      "cell_type": "code",
      "metadata": {
        "id": "9Wv7Fd0d8i0O",
        "outputId": "6e9a0e4b-3983-4f84-cca3-a292e0808e78",
        "colab": {
          "base_uri": "https://localhost:8080/"
        }
      },
      "source": [
        "# Эксцесс\n",
        "kurtosis(v.volume)"
      ],
      "execution_count": null,
      "outputs": [
        {
          "output_type": "execute_result",
          "data": {
            "text/plain": [
              "-0.01907270179202314"
            ]
          },
          "metadata": {},
          "execution_count": 15
        }
      ]
    },
    {
      "cell_type": "code",
      "metadata": {
        "id": "S5AgGFVC8i0S",
        "outputId": "545047fb-7695-4d84-e448-c20883e3602a",
        "colab": {
          "base_uri": "https://localhost:8080/"
        }
      },
      "source": [
        "# Ассиметрия\n",
        "skew(v.volume)"
      ],
      "execution_count": null,
      "outputs": [
        {
          "output_type": "execute_result",
          "data": {
            "text/plain": [
              "-0.02002067410617972"
            ]
          },
          "metadata": {},
          "execution_count": 16
        }
      ]
    },
    {
      "cell_type": "markdown",
      "metadata": {
        "id": "HkyHnQ3w8i0V"
      },
      "source": [
        "Теперь объединим все в одну функцию для удобства работы со вторй выборкой"
      ]
    },
    {
      "cell_type": "code",
      "metadata": {
        "id": "2YV66HeP8i0W"
      },
      "source": [
        "def my_basic_research(df=v, column = \"volume\"):\n",
        "    print(\"Базовые метрики\")\n",
        "    print(df[column].describe())\n",
        "    print(\"------------------------------------\")\n",
        "    \n",
        "    print(\"Самые популярные значения метрики, топ 5\")\n",
        "    print(df[column].value_counts().nlargest(5))\n",
        "    print(\"------------------------------------\")\n",
        "    \n",
        "    print(\"Эксцесс \", kurtosis(df[column]))\n",
        "    print(\"Ассиметрия \", skew(df[column]))\n",
        "    \n",
        "    sns.distplot(df[column])\n",
        "    plt.title(\"Распределение прибыли по пользователям\")"
      ],
      "execution_count": null,
      "outputs": []
    },
    {
      "cell_type": "code",
      "metadata": {
        "id": "4P_w0Jwg8i0Y",
        "outputId": "061b5802-ccfa-4516-d5f0-3389513f526a",
        "colab": {
          "base_uri": "https://localhost:8080/",
          "height": 823
        }
      },
      "source": [
        "# Опробуем нашу функцию.\n",
        "my_basic_research()"
      ],
      "execution_count": null,
      "outputs": [
        {
          "output_type": "stream",
          "name": "stdout",
          "text": [
            "Базовые метрики\n",
            "count    10000.000000\n",
            "mean       493.349800\n",
            "std       1013.844503\n",
            "min      -3244.000000\n",
            "25%       -187.000000\n",
            "50%        510.000000\n",
            "75%       1181.000000\n",
            "max       4212.000000\n",
            "Name: volume, dtype: float64\n",
            "------------------------------------\n",
            "Самые популярные значения метрики, топ 5\n",
            " 401.0    12\n",
            " 671.0    11\n",
            "-182.0    11\n",
            "-108.0    11\n",
            " 578.0    11\n",
            "Name: volume, dtype: int64\n",
            "------------------------------------\n",
            "Эксцесс  -0.01907270179202314\n",
            "Ассиметрия  -0.02002067410617972\n"
          ]
        },
        {
          "output_type": "display_data",
          "data": {
            "text/plain": [
              "<Figure size 720x504 with 1 Axes>"
            ],
            "image/png": "[encoded data removed]"
          },
          "metadata": {
            "needs_background": "light"
          }
        }
      ]
    },
    {
      "cell_type": "markdown",
      "metadata": {
        "id": "114Vv3EY8i0j"
      },
      "source": [
        "## Проверим на ассиметричном распределении"
      ]
    },
    {
      "cell_type": "markdown",
      "metadata": {
        "id": "QE1DMAI_8i0m"
      },
      "source": [
        "Вот так выглядит случай симметричных данных. Но в мире не все распределения симметричны - поэтому попробуем выяснить, чем это нам грозит, повторив анализ для Гамма распределения. Для начала подготовим датасет.\n",
        "\n",
        "Параметры Гамма закона k и theta связаны со средним и дисперсией этого закона следующим образом (https://ru.wikipedia.org/wiki/Гамма-распределение):"
      ]
    },
    {
      "cell_type": "markdown",
      "metadata": {
        "id": "G-EHWHA78i0p"
      },
      "source": [
        "$$m(x)=k*theta$$\n",
        "$$D(x)=k*theta^2$$"
      ]
    },
    {
      "cell_type": "markdown",
      "metadata": {
        "id": "q_N_Gyhn8i0q"
      },
      "source": [
        "Решая как систему уравнений, получим:"
      ]
    },
    {
      "cell_type": "markdown",
      "metadata": {
        "id": "tW-mVg-D8i0u"
      },
      "source": [
        "$$ k=(m(x)^2)/D(x)$$\n",
        "$$theta=D(x)/m(x)$$"
      ]
    },
    {
      "cell_type": "markdown",
      "metadata": {
        "id": "KId4KDMt8i0x"
      },
      "source": [
        "Зададим функцию для поиска параметров Гамма распределения по среднему и СКО"
      ]
    },
    {
      "cell_type": "code",
      "metadata": {
        "id": "YLuPbpRn8i0y"
      },
      "source": [
        "def gamma_params(mean, std):\n",
        "    shape = round((mean/std)**2, 4)\n",
        "    scale = round((std**2)/mean, 4)\n",
        "    return (shape, scale)"
      ],
      "execution_count": null,
      "outputs": []
    },
    {
      "cell_type": "code",
      "metadata": {
        "id": "zRRkCI2O8i00"
      },
      "source": [
        "shape, scale = gamma_params(n_mean, n_sigma)\n",
        "df = np.random.gamma(shape, scale, ns)\n",
        "df = pd.DataFrame(df,columns = [\"volume\"])\n",
        "\n",
        "# Округлим до целых\n",
        "df.volume = round(df.volume,0)"
      ],
      "execution_count": null,
      "outputs": []
    },
    {
      "cell_type": "code",
      "metadata": {
        "id": "RV-c_sHa8i02",
        "outputId": "2c0385f9-c443-4f2f-8d34-92bcde870cb4",
        "colab": {
          "base_uri": "https://localhost:8080/",
          "height": 206
        }
      },
      "source": [
        "df.head()"
      ],
      "execution_count": null,
      "outputs": [
        {
          "output_type": "execute_result",
          "data": {
            "text/plain": [
              "   volume\n",
              "0   980.0\n",
              "1     3.0\n",
              "2    81.0\n",
              "3   750.0\n",
              "4   363.0"
            ],
            "text/html": [
              "\n",
              "  <div id=\"df-de0b2f04-04f6-4c57-a792-aa0dbf2c7f52\">\n",
              "    <div class=\"colab-df-container\">\n",
              "      <div>\n",
              "<style scoped>\n",
              "    .dataframe tbody tr th:only-of-type {\n",
              "        vertical-align: middle;\n",
              "    }\n",
              "\n",
              "    .dataframe tbody tr th {\n",
              "        vertical-align: top;\n",
              "    }\n",
              "\n",
              "    .dataframe thead th {\n",
              "        text-align: right;\n",
              "    }\n",
              "</style>\n",
              "<table border=\"1\" class=\"dataframe\">\n",
              "  <thead>\n",
              "    <tr style=\"text-align: right;\">\n",
              "      <th></th>\n",
              "      <th>volume</th>\n",
              "    </tr>\n",
              "  </thead>\n",
              "  <tbody>\n",
              "    <tr>\n",
              "      <th>0</th>\n",
              "      <td>980.0</td>\n",
              "    </tr>\n",
              "    <tr>\n",
              "      <th>1</th>\n",
              "      <td>3.0</td>\n",
              "    </tr>\n",
              "    <tr>\n",
              "      <th>2</th>\n",
              "      <td>81.0</td>\n",
              "    </tr>\n",
              "    <tr>\n",
              "      <th>3</th>\n",
              "      <td>750.0</td>\n",
              "    </tr>\n",
              "    <tr>\n",
              "      <th>4</th>\n",
              "      <td>363.0</td>\n",
              "    </tr>\n",
              "  </tbody>\n",
              "</table>\n",
              "</div>\n",
              "      <button class=\"colab-df-convert\" onclick=\"convertToInteractive('df-de0b2f04-04f6-4c57-a792-aa0dbf2c7f52')\"\n",
              "              title=\"Convert this dataframe to an interactive table.\"\n",
              "              style=\"display:none;\">\n",
              "        \n",
              "  <svg xmlns=\"http://www.w3.org/2000/svg\" height=\"24px\"viewBox=\"0 0 24 24\"\n",
              "       width=\"24px\">\n",
              "    <path d=\"M0 0h24v24H0V0z\" fill=\"none\"/>\n",
              "    <path d=\"M18.56 5.44l.94 2.06.94-2.06 2.06-.94-2.06-.94-.94-2.06-.94 2.06-2.06.94zm-11 1L8.5 8.5l.94-2.06 2.06-.94-2.06-.94L8.5 2.5l-.94 2.06-2.06.94zm10 10l.94 2.06.94-2.06 2.06-.94-2.06-.94-.94-2.06-.94 2.06-2.06.94z\"/><path d=\"M17.41 7.96l-1.37-1.37c-.4-.4-.92-.59-1.43-.59-.52 0-1.04.2-1.43.59L10.3 9.45l-7.72 7.72c-.78.78-.78 2.05 0 2.83L4 21.41c.39.39.9.59 1.41.59.51 0 1.02-.2 1.41-.59l7.78-7.78 2.81-2.81c.8-.78.8-2.07 0-2.86zM5.41 20L4 18.59l7.72-7.72 1.47 1.35L5.41 20z\"/>\n",
              "  </svg>\n",
              "      </button>\n",
              "      \n",
              "  <style>\n",
              "    .colab-df-container {\n",
              "      display:flex;\n",
              "      flex-wrap:wrap;\n",
              "      gap: 12px;\n",
              "    }\n",
              "\n",
              "    .colab-df-convert {\n",
              "      background-color: #E8F0FE;\n",
              "      border: none;\n",
              "      border-radius: 50%;\n",
              "      cursor: pointer;\n",
              "      display: none;\n",
              "      fill: #1967D2;\n",
              "      height: 32px;\n",
              "      padding: 0 0 0 0;\n",
              "      width: 32px;\n",
              "    }\n",
              "\n",
              "    .colab-df-convert:hover {\n",
              "      background-color: #E2EBFA;\n",
              "      box-shadow: 0px 1px 2px rgba(60, 64, 67, 0.3), 0px 1px 3px 1px rgba(60, 64, 67, 0.15);\n",
              "      fill: #174EA6;\n",
              "    }\n",
              "\n",
              "    [theme=dark] .colab-df-convert {\n",
              "      background-color: #3B4455;\n",
              "      fill: #D2E3FC;\n",
              "    }\n",
              "\n",
              "    [theme=dark] .colab-df-convert:hover {\n",
              "      background-color: #434B5C;\n",
              "      box-shadow: 0px 1px 3px 1px rgba(0, 0, 0, 0.15);\n",
              "      filter: drop-shadow(0px 1px 2px rgba(0, 0, 0, 0.3));\n",
              "      fill: #FFFFFF;\n",
              "    }\n",
              "  </style>\n",
              "\n",
              "      <script>\n",
              "        const buttonEl =\n",
              "          document.querySelector('#df-de0b2f04-04f6-4c57-a792-aa0dbf2c7f52 button.colab-df-convert');\n",
              "        buttonEl.style.display =\n",
              "          google.colab.kernel.accessAllowed ? 'block' : 'none';\n",
              "\n",
              "        async function convertToInteractive(key) {\n",
              "          const element = document.querySelector('#df-de0b2f04-04f6-4c57-a792-aa0dbf2c7f52');\n",
              "          const dataTable =\n",
              "            await google.colab.kernel.invokeFunction('convertToInteractive',\n",
              "                                                     [key], {});\n",
              "          if (!dataTable) return;\n",
              "\n",
              "          const docLinkHtml = 'Like what you see? Visit the ' +\n",
              "            '<a target=\"_blank\" href=https://colab.research.google.com/notebooks/data_table.ipynb>data table notebook</a>'\n",
              "            + ' to learn more about interactive tables.';\n",
              "          element.innerHTML = '';\n",
              "          dataTable['output_type'] = 'display_data';\n",
              "          await google.colab.output.renderOutput(dataTable, element);\n",
              "          const docLink = document.createElement('div');\n",
              "          docLink.innerHTML = docLinkHtml;\n",
              "          element.appendChild(docLink);\n",
              "        }\n",
              "      </script>\n",
              "    </div>\n",
              "  </div>\n",
              "  "
            ]
          },
          "metadata": {},
          "execution_count": 21
        }
      ]
    },
    {
      "cell_type": "code",
      "metadata": {
        "id": "PaFWoc3A8i04",
        "outputId": "e10e28af-fcac-4309-d85e-c2396cfdfc02",
        "colab": {
          "base_uri": "https://localhost:8080/",
          "height": 823
        }
      },
      "source": [
        "my_basic_research(df = df, column = \"volume\")"
      ],
      "execution_count": null,
      "outputs": [
        {
          "output_type": "stream",
          "name": "stdout",
          "text": [
            "Базовые метрики\n",
            "count    10000.000000\n",
            "mean       497.251400\n",
            "std       1006.975473\n",
            "min          0.000000\n",
            "25%          5.000000\n",
            "50%         85.000000\n",
            "75%        523.250000\n",
            "max      17014.000000\n",
            "Name: volume, dtype: float64\n",
            "------------------------------------\n",
            "Самые популярные значения метрики, топ 5\n",
            "0.0    1407\n",
            "1.0     442\n",
            "2.0     229\n",
            "3.0     161\n",
            "4.0     161\n",
            "Name: volume, dtype: int64\n",
            "------------------------------------\n",
            "Эксцесс  27.87409900532997\n",
            "Ассиметрия  4.223068009222674\n"
          ]
        },
        {
          "output_type": "display_data",
          "data": {
            "text/plain": [
              "<Figure size 720x504 with 1 Axes>"
            ],
            "image/png": "[encoded data removed]"
          },
          "metadata": {
            "needs_background": "light"
          }
        }
      ]
    },
    {
      "cell_type": "markdown",
      "metadata": {
        "id": "gJMHHedT8i06"
      },
      "source": [
        "Как можно увидеть, теперь мы имеем дело а ассиметричным распределением и все квантили, а такде коэффициенты ассиметрии и эксцесса поменялись, несмотря на равенство средних и ско - и выводы по этим датасетам получаются абсолютно разные.\n",
        "\n",
        "К примеру, сравним долю убыточных клиентов для первого и второго датасетов:"
      ]
    },
    {
      "cell_type": "code",
      "metadata": {
        "id": "ltDdj8c68i07",
        "outputId": "d5951538-e06d-4edc-9385-65453d55b775",
        "colab": {
          "base_uri": "https://localhost:8080/"
        }
      },
      "source": [
        "v[v.volume < 0].count()/len(v)"
      ],
      "execution_count": null,
      "outputs": [
        {
          "output_type": "execute_result",
          "data": {
            "text/plain": [
              "volume    0.3123\n",
              "dtype: float64"
            ]
          },
          "metadata": {},
          "execution_count": 23
        }
      ]
    },
    {
      "cell_type": "code",
      "metadata": {
        "id": "0Rt_qNjj8i0-",
        "outputId": "c5edcf12-ee51-40c3-95e3-6f7af7689b8a",
        "colab": {
          "base_uri": "https://localhost:8080/"
        }
      },
      "source": [
        "df[df.volume < 0].count()/len(df)"
      ],
      "execution_count": null,
      "outputs": [
        {
          "output_type": "execute_result",
          "data": {
            "text/plain": [
              "volume    0.0\n",
              "dtype: float64"
            ]
          },
          "metadata": {},
          "execution_count": 24
        }
      ]
    },
    {
      "cell_type": "markdown",
      "metadata": {
        "id": "xMGnrJpN8i1A"
      },
      "source": [
        "А теперь сравним суммарную прибыль по клиентам с прибылью свыше медианы в млн:"
      ]
    },
    {
      "cell_type": "code",
      "metadata": {
        "id": "k0xy51jC8i1B",
        "outputId": "4d1f2704-cea7-4335-8d08-09f45659ca63",
        "colab": {
          "base_uri": "https://localhost:8080/"
        }
      },
      "source": [
        "v[v.volume >= np.percentile(v.volume,50)].volume.sum()/10**6"
      ],
      "execution_count": null,
      "outputs": [
        {
          "output_type": "execute_result",
          "data": {
            "text/plain": [
              "6.511843"
            ]
          },
          "metadata": {},
          "execution_count": 25
        }
      ]
    },
    {
      "cell_type": "code",
      "metadata": {
        "id": "to0hq-hG8i1G",
        "outputId": "a95286ca-24e7-4a1d-bd0f-f4144af0aae4",
        "colab": {
          "base_uri": "https://localhost:8080/"
        }
      },
      "source": [
        "df[df.volume >= np.percentile(df.volume,50)].volume.sum()/10**6"
      ],
      "execution_count": null,
      "outputs": [
        {
          "output_type": "execute_result",
          "data": {
            "text/plain": [
              "4.889369"
            ]
          },
          "metadata": {},
          "execution_count": 26
        }
      ]
    },
    {
      "cell_type": "markdown",
      "metadata": {
        "id": "ZP2QgH1Q8i1J"
      },
      "source": [
        "Как можно видеть, эффект от ассимерии при одинаковых средних и ско существенно менять выводы."
      ]
    },
    {
      "cell_type": "markdown",
      "metadata": {
        "id": "WT5h36zP8i1K"
      },
      "source": [
        "## Мини домашка"
      ]
    },
    {
      "cell_type": "markdown",
      "metadata": {
        "id": "ye6qBTIv8i1K"
      },
      "source": [
        "Найдите медиану для Гамма распределения со средним = 1000 и среднеквадратичным отклонением = 3000, не округляя значения синтетического датасета.\n",
        "Какое число получилось?"
      ]
    },
    {
      "cell_type": "code",
      "source": [
        "#Решение\n",
        "shape, scale = gamma_params(1000, 3000)\n",
        "df = np.random.gamma(shape, scale, ns)\n",
        "df = pd.DataFrame(df,columns = [\"volume\"])\n",
        "df.volume.median()"
      ],
      "metadata": {
        "colab": {
          "base_uri": "https://localhost:8080/"
        },
        "id": "WO45N-qocCqU",
        "outputId": "3bb86279-49cd-4d9a-9db4-80bc254d327e"
      },
      "execution_count": null,
      "outputs": [
        {
          "output_type": "execute_result",
          "data": {
            "text/plain": [
              "10.71080292380248"
            ]
          },
          "metadata": {},
          "execution_count": 30
        }
      ]
    }
  ]
}